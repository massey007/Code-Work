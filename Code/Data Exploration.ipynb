{
 "cells": [
  {
   "cell_type": "code",
   "execution_count": 66,
   "metadata": {},
   "outputs": [],
   "source": [
    "import numpy as np\n",
    "import pandas as pd\n",
    "import scipy.stats as stats\n",
    "import matplotlib.pyplot as plt\n",
    "from sklearn.decomposition import PCA\n",
    "from sklearn.preprocessing import StandardScaler\n",
    "from datetime import datetime\n",
    "import seaborn as sns\n",
    "\n",
    "import matplotlib\n",
    "import matplotlib.patches as mpp"
   ]
  },
  {
   "cell_type": "markdown",
   "metadata": {},
   "source": [
    "We are going to extract the PCS Claims data from the github mentioned."
   ]
  },
  {
   "cell_type": "markdown",
   "metadata": {},
   "source": [
    "## EDA"
   ]
  },
  {
   "cell_type": "code",
   "execution_count": 67,
   "metadata": {},
   "outputs": [],
   "source": [
    "data = pd.read_table(\"/Users/archibaldgonah/Desktop/Masters work/Code-Work/data/ncl.dat\", delim_whitespace=True, header=None)"
   ]
  },
  {
   "cell_type": "code",
   "execution_count": 68,
   "metadata": {},
   "outputs": [
    {
     "data": {
      "text/html": [
       "<div>\n",
       "<style scoped>\n",
       "    .dataframe tbody tr th:only-of-type {\n",
       "        vertical-align: middle;\n",
       "    }\n",
       "\n",
       "    .dataframe tbody tr th {\n",
       "        vertical-align: top;\n",
       "    }\n",
       "\n",
       "    .dataframe thead th {\n",
       "        text-align: right;\n",
       "    }\n",
       "</style>\n",
       "<table border=\"1\" class=\"dataframe\">\n",
       "  <thead>\n",
       "    <tr style=\"text-align: right;\">\n",
       "      <th></th>\n",
       "      <th>0</th>\n",
       "      <th>1</th>\n",
       "      <th>2</th>\n",
       "      <th>3</th>\n",
       "      <th>4</th>\n",
       "    </tr>\n",
       "  </thead>\n",
       "  <tbody>\n",
       "    <tr>\n",
       "      <th>0</th>\n",
       "      <td>900107</td>\n",
       "      <td>0.016438</td>\n",
       "      <td>59446625.0</td>\n",
       "      <td>0.000000</td>\n",
       "      <td>1</td>\n",
       "    </tr>\n",
       "    <tr>\n",
       "      <th>1</th>\n",
       "      <td>900209</td>\n",
       "      <td>0.106850</td>\n",
       "      <td>184078130.0</td>\n",
       "      <td>0.090411</td>\n",
       "      <td>1</td>\n",
       "    </tr>\n",
       "    <tr>\n",
       "      <th>2</th>\n",
       "      <td>900216</td>\n",
       "      <td>0.126030</td>\n",
       "      <td>26296875.0</td>\n",
       "      <td>0.019178</td>\n",
       "      <td>1</td>\n",
       "    </tr>\n",
       "    <tr>\n",
       "      <th>3</th>\n",
       "      <td>900313</td>\n",
       "      <td>0.194520</td>\n",
       "      <td>130769230.0</td>\n",
       "      <td>0.068493</td>\n",
       "      <td>1</td>\n",
       "    </tr>\n",
       "    <tr>\n",
       "      <th>4</th>\n",
       "      <td>900405</td>\n",
       "      <td>0.257530</td>\n",
       "      <td>110981380.0</td>\n",
       "      <td>0.063014</td>\n",
       "      <td>2</td>\n",
       "    </tr>\n",
       "  </tbody>\n",
       "</table>\n",
       "</div>"
      ],
      "text/plain": [
       "        0         1            2         3  4\n",
       "0  900107  0.016438   59446625.0  0.000000  1\n",
       "1  900209  0.106850  184078130.0  0.090411  1\n",
       "2  900216  0.126030   26296875.0  0.019178  1\n",
       "3  900313  0.194520  130769230.0  0.068493  1\n",
       "4  900405  0.257530  110981380.0  0.063014  2"
      ]
     },
     "execution_count": 68,
     "metadata": {},
     "output_type": "execute_result"
    }
   ],
   "source": [
    "data.head()"
   ]
  },
  {
   "cell_type": "code",
   "execution_count": 69,
   "metadata": {},
   "outputs": [],
   "source": [
    "# Function to convert 'yymmdd' to 'YYYY-MM-DD'\n",
    "def convert_date(date_int):\n",
    "    date_str = str(date_int)  # Convert integer to string\n",
    "    date_obj = datetime.strptime(date_str, '%y%m%d')\n",
    "    return date_obj.strftime('%Y-%m-%d')"
   ]
  },
  {
   "cell_type": "code",
   "execution_count": 70,
   "metadata": {},
   "outputs": [],
   "source": [
    "# Apply the conversion function to the 'Date' column\n",
    "data[0]= data[0].apply(lambda x: convert_date(x))\n",
    "# Convert 'Date' column to datetime format\n",
    "data[0] = pd.to_datetime(data[0])"
   ]
  },
  {
   "cell_type": "code",
   "execution_count": 71,
   "metadata": {},
   "outputs": [
    {
     "data": {
      "text/html": [
       "<div>\n",
       "<style scoped>\n",
       "    .dataframe tbody tr th:only-of-type {\n",
       "        vertical-align: middle;\n",
       "    }\n",
       "\n",
       "    .dataframe tbody tr th {\n",
       "        vertical-align: top;\n",
       "    }\n",
       "\n",
       "    .dataframe thead th {\n",
       "        text-align: right;\n",
       "    }\n",
       "</style>\n",
       "<table border=\"1\" class=\"dataframe\">\n",
       "  <thead>\n",
       "    <tr style=\"text-align: right;\">\n",
       "      <th></th>\n",
       "      <th>0</th>\n",
       "      <th>1</th>\n",
       "      <th>2</th>\n",
       "      <th>3</th>\n",
       "      <th>4</th>\n",
       "    </tr>\n",
       "  </thead>\n",
       "  <tbody>\n",
       "    <tr>\n",
       "      <th>0</th>\n",
       "      <td>1990-01-07</td>\n",
       "      <td>0.016438</td>\n",
       "      <td>59446625.0</td>\n",
       "      <td>0.000000</td>\n",
       "      <td>1</td>\n",
       "    </tr>\n",
       "    <tr>\n",
       "      <th>1</th>\n",
       "      <td>1990-02-09</td>\n",
       "      <td>0.106850</td>\n",
       "      <td>184078130.0</td>\n",
       "      <td>0.090411</td>\n",
       "      <td>1</td>\n",
       "    </tr>\n",
       "    <tr>\n",
       "      <th>2</th>\n",
       "      <td>1990-02-16</td>\n",
       "      <td>0.126030</td>\n",
       "      <td>26296875.0</td>\n",
       "      <td>0.019178</td>\n",
       "      <td>1</td>\n",
       "    </tr>\n",
       "    <tr>\n",
       "      <th>3</th>\n",
       "      <td>1990-03-13</td>\n",
       "      <td>0.194520</td>\n",
       "      <td>130769230.0</td>\n",
       "      <td>0.068493</td>\n",
       "      <td>1</td>\n",
       "    </tr>\n",
       "    <tr>\n",
       "      <th>4</th>\n",
       "      <td>1990-04-05</td>\n",
       "      <td>0.257530</td>\n",
       "      <td>110981380.0</td>\n",
       "      <td>0.063014</td>\n",
       "      <td>2</td>\n",
       "    </tr>\n",
       "  </tbody>\n",
       "</table>\n",
       "</div>"
      ],
      "text/plain": [
       "           0         1            2         3  4\n",
       "0 1990-01-07  0.016438   59446625.0  0.000000  1\n",
       "1 1990-02-09  0.106850  184078130.0  0.090411  1\n",
       "2 1990-02-16  0.126030   26296875.0  0.019178  1\n",
       "3 1990-03-13  0.194520  130769230.0  0.068493  1\n",
       "4 1990-04-05  0.257530  110981380.0  0.063014  2"
      ]
     },
     "execution_count": 71,
     "metadata": {},
     "output_type": "execute_result"
    }
   ],
   "source": [
    "data.head()"
   ]
  },
  {
   "cell_type": "code",
   "execution_count": 72,
   "metadata": {},
   "outputs": [
    {
     "name": "stdout",
     "output_type": "stream",
     "text": [
      "<class 'pandas.core.frame.DataFrame'>\n",
      "RangeIndex: 342 entries, 0 to 341\n",
      "Data columns (total 5 columns):\n",
      " #   Column  Non-Null Count  Dtype         \n",
      "---  ------  --------------  -----         \n",
      " 0   0       342 non-null    datetime64[ns]\n",
      " 1   1       342 non-null    float64       \n",
      " 2   2       342 non-null    float64       \n",
      " 3   3       342 non-null    float64       \n",
      " 4   4       342 non-null    int64         \n",
      "dtypes: datetime64[ns](1), float64(3), int64(1)\n",
      "memory usage: 13.5 KB\n"
     ]
    }
   ],
   "source": [
    "data.info()\n",
    "# no nun values\n",
    "# columns are in correct format"
   ]
  },
  {
   "cell_type": "code",
   "execution_count": 73,
   "metadata": {},
   "outputs": [
    {
     "data": {
      "image/png": "[encoded data removed]",
      "text/plain": [
       "<Figure size 800x600 with 1 Axes>"
      ]
     },
     "metadata": {},
     "output_type": "display_data"
    }
   ],
   "source": [
    "# Extracting columns to plot\n",
    "x = data[0].values\n",
    "y = data[2].values / 1e+09\n",
    "\n",
    "# Plotting\n",
    "plt.figure(figsize=(8, 6))\n",
    "plt.plot(x, y, linestyle='-', color='b', label='Value')\n",
    "plt.xlabel('Years', fontsize=12)\n",
    "plt.ylabel('Adjusted PCS catastrophe claims (USD billion)', fontsize=12)\n",
    "plt.grid(True)\n",
    "\n",
    "\n",
    "plt.show()"
   ]
  },
  {
   "cell_type": "markdown",
   "metadata": {},
   "source": [
    "## PCA Analysis"
   ]
  },
  {
   "cell_type": "code",
   "execution_count": 74,
   "metadata": {},
   "outputs": [],
   "source": [
    "data[2] = data[2].values / 1e+09"
   ]
  },
  {
   "cell_type": "code",
   "execution_count": 75,
   "metadata": {},
   "outputs": [
    {
     "data": {
      "text/html": [
       "<div>\n",
       "<style scoped>\n",
       "    .dataframe tbody tr th:only-of-type {\n",
       "        vertical-align: middle;\n",
       "    }\n",
       "\n",
       "    .dataframe tbody tr th {\n",
       "        vertical-align: top;\n",
       "    }\n",
       "\n",
       "    .dataframe thead th {\n",
       "        text-align: right;\n",
       "    }\n",
       "</style>\n",
       "<table border=\"1\" class=\"dataframe\">\n",
       "  <thead>\n",
       "    <tr style=\"text-align: right;\">\n",
       "      <th></th>\n",
       "      <th>0</th>\n",
       "      <th>1</th>\n",
       "      <th>2</th>\n",
       "      <th>3</th>\n",
       "      <th>4</th>\n",
       "    </tr>\n",
       "  </thead>\n",
       "  <tbody>\n",
       "    <tr>\n",
       "      <th>0</th>\n",
       "      <td>1990-01-07</td>\n",
       "      <td>0.016438</td>\n",
       "      <td>0.059447</td>\n",
       "      <td>0.000000</td>\n",
       "      <td>1</td>\n",
       "    </tr>\n",
       "    <tr>\n",
       "      <th>1</th>\n",
       "      <td>1990-02-09</td>\n",
       "      <td>0.106850</td>\n",
       "      <td>0.184078</td>\n",
       "      <td>0.090411</td>\n",
       "      <td>1</td>\n",
       "    </tr>\n",
       "    <tr>\n",
       "      <th>2</th>\n",
       "      <td>1990-02-16</td>\n",
       "      <td>0.126030</td>\n",
       "      <td>0.026297</td>\n",
       "      <td>0.019178</td>\n",
       "      <td>1</td>\n",
       "    </tr>\n",
       "    <tr>\n",
       "      <th>3</th>\n",
       "      <td>1990-03-13</td>\n",
       "      <td>0.194520</td>\n",
       "      <td>0.130769</td>\n",
       "      <td>0.068493</td>\n",
       "      <td>1</td>\n",
       "    </tr>\n",
       "    <tr>\n",
       "      <th>4</th>\n",
       "      <td>1990-04-05</td>\n",
       "      <td>0.257530</td>\n",
       "      <td>0.110981</td>\n",
       "      <td>0.063014</td>\n",
       "      <td>2</td>\n",
       "    </tr>\n",
       "  </tbody>\n",
       "</table>\n",
       "</div>"
      ],
      "text/plain": [
       "           0         1         2         3  4\n",
       "0 1990-01-07  0.016438  0.059447  0.000000  1\n",
       "1 1990-02-09  0.106850  0.184078  0.090411  1\n",
       "2 1990-02-16  0.126030  0.026297  0.019178  1\n",
       "3 1990-03-13  0.194520  0.130769  0.068493  1\n",
       "4 1990-04-05  0.257530  0.110981  0.063014  2"
      ]
     },
     "execution_count": 75,
     "metadata": {},
     "output_type": "execute_result"
    }
   ],
   "source": [
    "data.head()"
   ]
  },
  {
   "cell_type": "code",
   "execution_count": 76,
   "metadata": {},
   "outputs": [],
   "source": [
    "# The function is designed to format and enhance the visual appearance of a plot that shows explained \n",
    "# variance along principal components (PCs) in PCA (Principal Component Analysis)\n",
    "\n",
    "\n",
    "def tidy_up_expl_var_plot(ax, close=True):\n",
    "    plt.gcf().set_size_inches(8,4)\n",
    "\n",
    "    ax.set_xticks(np.arange(0,pca.n_components_+1))\n",
    "    ax.set_xlim(0.4,pca.n_components_ + 0.6)\n",
    "    ax.set_yticklabels([\"{:d}%\".format(x) for x in np.arange(0,110,step=20)], \n",
    "                              fontsize=12)\n",
    "    ax.axhline(1, linestyle=\"--\", color=\"grey\")\n",
    "    ax.set_xlabel(\"$k$\", fontsize=16)\n",
    "    ax.set_ylabel(\"% Explained Variance\", fontsize=16);"
   ]
  },
  {
   "cell_type": "code",
   "execution_count": 77,
   "metadata": {},
   "outputs": [
    {
     "name": "stderr",
     "output_type": "stream",
     "text": [
      "/var/folders/q1/n1z4xy556cjbxzn0zg0twy3m0000gn/T/ipykernel_26889/347955173.py:10: UserWarning: FixedFormatter should only be used together with FixedLocator\n",
      "  ax.set_yticklabels([\"{:d}%\".format(x) for x in np.arange(0,110,step=20)],\n"
     ]
    },
    {
     "data": {
      "image/png": "[encoded data removed]",
      "text/plain": [
       "<Figure size 800x400 with 1 Axes>"
      ]
     },
     "metadata": {},
     "output_type": "display_data"
    }
   ],
   "source": [
    "food_proc = StandardScaler(with_std=False).fit_transform(data.iloc[:, 1:4])\n",
    "pca = PCA()\n",
    "food_pca = pca.fit(food_proc)\n",
    "expl_var_pct = np.cumsum(food_pca.explained_variance_ratio_)\n",
    "        \n",
    "                \n",
    "plt.bar(np.arange(pca.n_components_)+1, expl_var_pct)\n",
    "tidy_up_expl_var_plot(plt.gca())"
   ]
  },
  {
   "cell_type": "code",
   "execution_count": 78,
   "metadata": {},
   "outputs": [],
   "source": [
    "pca = PCA(n_components=2)\n",
    "\n",
    "principalComponents = pca.fit_transform(data.iloc[:, 1:4])\n",
    "\n",
    "principalDf = pd.DataFrame(data = principalComponents\n",
    "             , columns = ['principal component 1', 'principal component 2'])"
   ]
  },
  {
   "cell_type": "code",
   "execution_count": 79,
   "metadata": {},
   "outputs": [
    {
     "data": {
      "text/plain": [
       "array([[ 9.99966919e-01, -8.11549529e-03,  5.47636172e-04],\n",
       "       [ 8.11516087e-03,  9.99966885e-01,  6.10146909e-04]])"
      ]
     },
     "execution_count": 79,
     "metadata": {},
     "output_type": "execute_result"
    }
   ],
   "source": [
    "pca.components_"
   ]
  },
  {
   "cell_type": "code",
   "execution_count": 80,
   "metadata": {},
   "outputs": [
    {
     "data": {
      "text/plain": [
       "array([7.75355907, 1.69087629])"
      ]
     },
     "execution_count": 80,
     "metadata": {},
     "output_type": "execute_result"
    }
   ],
   "source": [
    "# Check out the eigen values that correspond to each eiegn vector\n",
    "pca.explained_variance_"
   ]
  },
  {
   "cell_type": "code",
   "execution_count": 81,
   "metadata": {},
   "outputs": [],
   "source": [
    "principalDf = pd.DataFrame(data = principalComponents\n",
    "             , columns = ['principal component 1', 'principal component 2'])"
   ]
  },
  {
   "cell_type": "code",
   "execution_count": 82,
   "metadata": {},
   "outputs": [
    {
     "data": {
      "text/html": [
       "<div>\n",
       "<style scoped>\n",
       "    .dataframe tbody tr th:only-of-type {\n",
       "        vertical-align: middle;\n",
       "    }\n",
       "\n",
       "    .dataframe tbody tr th {\n",
       "        vertical-align: top;\n",
       "    }\n",
       "\n",
       "    .dataframe thead th {\n",
       "        text-align: right;\n",
       "    }\n",
       "</style>\n",
       "<table border=\"1\" class=\"dataframe\">\n",
       "  <thead>\n",
       "    <tr style=\"text-align: right;\">\n",
       "      <th></th>\n",
       "      <th>principal component 1</th>\n",
       "      <th>principal component 2</th>\n",
       "    </tr>\n",
       "  </thead>\n",
       "  <tbody>\n",
       "    <tr>\n",
       "      <th>0</th>\n",
       "      <td>-4.811345</td>\n",
       "      <td>-0.276962</td>\n",
       "    </tr>\n",
       "    <tr>\n",
       "      <th>1</th>\n",
       "      <td>-4.721898</td>\n",
       "      <td>-0.151546</td>\n",
       "    </tr>\n",
       "    <tr>\n",
       "      <th>2</th>\n",
       "      <td>-4.701477</td>\n",
       "      <td>-0.309209</td>\n",
       "    </tr>\n",
       "    <tr>\n",
       "      <th>3</th>\n",
       "      <td>-4.633810</td>\n",
       "      <td>-0.204155</td>\n",
       "    </tr>\n",
       "    <tr>\n",
       "      <th>4</th>\n",
       "      <td>-4.570645</td>\n",
       "      <td>-0.223434</td>\n",
       "    </tr>\n",
       "    <tr>\n",
       "      <th>...</th>\n",
       "      <td>...</td>\n",
       "      <td>...</td>\n",
       "    </tr>\n",
       "    <tr>\n",
       "      <th>337</th>\n",
       "      <td>4.815970</td>\n",
       "      <td>-0.228026</td>\n",
       "    </tr>\n",
       "    <tr>\n",
       "      <th>338</th>\n",
       "      <td>4.834900</td>\n",
       "      <td>-0.197683</td>\n",
       "    </tr>\n",
       "    <tr>\n",
       "      <th>339</th>\n",
       "      <td>4.863259</td>\n",
       "      <td>1.706863</td>\n",
       "    </tr>\n",
       "    <tr>\n",
       "      <th>340</th>\n",
       "      <td>4.963410</td>\n",
       "      <td>-0.156970</td>\n",
       "    </tr>\n",
       "    <tr>\n",
       "      <th>341</th>\n",
       "      <td>5.053283</td>\n",
       "      <td>-0.091295</td>\n",
       "    </tr>\n",
       "  </tbody>\n",
       "</table>\n",
       "<p>342 rows × 2 columns</p>\n",
       "</div>"
      ],
      "text/plain": [
       "     principal component 1  principal component 2\n",
       "0                -4.811345              -0.276962\n",
       "1                -4.721898              -0.151546\n",
       "2                -4.701477              -0.309209\n",
       "3                -4.633810              -0.204155\n",
       "4                -4.570645              -0.223434\n",
       "..                     ...                    ...\n",
       "337               4.815970              -0.228026\n",
       "338               4.834900              -0.197683\n",
       "339               4.863259               1.706863\n",
       "340               4.963410              -0.156970\n",
       "341               5.053283              -0.091295\n",
       "\n",
       "[342 rows x 2 columns]"
      ]
     },
     "execution_count": 82,
     "metadata": {},
     "output_type": "execute_result"
    }
   ],
   "source": [
    "principalDf"
   ]
  },
  {
   "cell_type": "code",
   "execution_count": 83,
   "metadata": {},
   "outputs": [
    {
     "data": {
      "text/plain": [
       "<matplotlib.collections.PathCollection at 0x7f86d18e7e80>"
      ]
     },
     "execution_count": 83,
     "metadata": {},
     "output_type": "execute_result"
    },
    {
     "data": {
      "image/png": "[encoded data removed]",
      "text/plain": [
       "<Figure size 640x480 with 1 Axes>"
      ]
     },
     "metadata": {},
     "output_type": "display_data"
    }
   ],
   "source": [
    "plt.scatter(principalDf.iloc[:, 0], principalDf.iloc[:, 1])"
   ]
  },
  {
   "cell_type": "code",
   "execution_count": 84,
   "metadata": {},
   "outputs": [],
   "source": [
    "# create a new feature \n",
    "pca = PCA(n_components=1)\n",
    "\n",
    "principalComponents = pca.fit_transform(data.iloc[:, 1:4])\n",
    "\n",
    "principalDf_1 = pd.DataFrame(data = principalComponents\n",
    "             , columns = ['principal component 1'])"
   ]
  },
  {
   "cell_type": "code",
   "execution_count": 85,
   "metadata": {},
   "outputs": [
    {
     "data": {
      "text/html": [
       "<div>\n",
       "<style scoped>\n",
       "    .dataframe tbody tr th:only-of-type {\n",
       "        vertical-align: middle;\n",
       "    }\n",
       "\n",
       "    .dataframe tbody tr th {\n",
       "        vertical-align: top;\n",
       "    }\n",
       "\n",
       "    .dataframe thead th {\n",
       "        text-align: right;\n",
       "    }\n",
       "</style>\n",
       "<table border=\"1\" class=\"dataframe\">\n",
       "  <thead>\n",
       "    <tr style=\"text-align: right;\">\n",
       "      <th></th>\n",
       "      <th>principal component 1</th>\n",
       "    </tr>\n",
       "  </thead>\n",
       "  <tbody>\n",
       "    <tr>\n",
       "      <th>0</th>\n",
       "      <td>-4.811345</td>\n",
       "    </tr>\n",
       "    <tr>\n",
       "      <th>1</th>\n",
       "      <td>-4.721898</td>\n",
       "    </tr>\n",
       "    <tr>\n",
       "      <th>2</th>\n",
       "      <td>-4.701477</td>\n",
       "    </tr>\n",
       "    <tr>\n",
       "      <th>3</th>\n",
       "      <td>-4.633810</td>\n",
       "    </tr>\n",
       "    <tr>\n",
       "      <th>4</th>\n",
       "      <td>-4.570645</td>\n",
       "    </tr>\n",
       "    <tr>\n",
       "      <th>...</th>\n",
       "      <td>...</td>\n",
       "    </tr>\n",
       "    <tr>\n",
       "      <th>337</th>\n",
       "      <td>4.815970</td>\n",
       "    </tr>\n",
       "    <tr>\n",
       "      <th>338</th>\n",
       "      <td>4.834900</td>\n",
       "    </tr>\n",
       "    <tr>\n",
       "      <th>339</th>\n",
       "      <td>4.863259</td>\n",
       "    </tr>\n",
       "    <tr>\n",
       "      <th>340</th>\n",
       "      <td>4.963410</td>\n",
       "    </tr>\n",
       "    <tr>\n",
       "      <th>341</th>\n",
       "      <td>5.053283</td>\n",
       "    </tr>\n",
       "  </tbody>\n",
       "</table>\n",
       "<p>342 rows × 1 columns</p>\n",
       "</div>"
      ],
      "text/plain": [
       "     principal component 1\n",
       "0                -4.811345\n",
       "1                -4.721898\n",
       "2                -4.701477\n",
       "3                -4.633810\n",
       "4                -4.570645\n",
       "..                     ...\n",
       "337               4.815970\n",
       "338               4.834900\n",
       "339               4.863259\n",
       "340               4.963410\n",
       "341               5.053283\n",
       "\n",
       "[342 rows x 1 columns]"
      ]
     },
     "execution_count": 85,
     "metadata": {},
     "output_type": "execute_result"
    }
   ],
   "source": [
    "principalDf_1"
   ]
  },
  {
   "cell_type": "code",
   "execution_count": 86,
   "metadata": {},
   "outputs": [
    {
     "data": {
      "image/png": "[encoded data removed]",
      "text/plain": [
       "<Figure size 640x480 with 2 Axes>"
      ]
     },
     "metadata": {},
     "output_type": "display_data"
    }
   ],
   "source": [
    "# Calculate correlation coefficients (Pearson's default)\n",
    "correlation_matrix = data.iloc[:, 1:4].corr()\n",
    "\n",
    "# Create a heatmap\n",
    "sns.heatmap(correlation_matrix, annot=True)\n",
    "plt.show()"
   ]
  },
  {
   "cell_type": "markdown",
   "metadata": {},
   "source": [
    "No significant correlations."
   ]
  }
 ],
 "metadata": {
  "kernelspec": {
   "display_name": "false",
   "language": "python",
   "name": "python3"
  },
  "language_info": {
   "codemirror_mode": {
    "name": "ipython",
    "version": 3
   },
   "file_extension": ".py",
   "mimetype": "text/x-python",
   "name": "python",
   "nbconvert_exporter": "python",
   "pygments_lexer": "ipython3",
   "version": "3.8.-1"
  }
 },
 "nbformat": 4,
 "nbformat_minor": 2
}
