{
 "cells": [
  {
   "cell_type": "code",
   "execution_count": 1,
   "metadata": {},
   "outputs": [],
   "source": [
    "import numpy as np\n",
    "import pandas as pd\n",
    "import scipy.stats as stats\n",
    "import matplotlib.pyplot as plt\n",
    "from datetime import datetime"
   ]
  },
  {
   "cell_type": "markdown",
   "metadata": {},
   "source": [
    "We are going to extract the PCS Claims data from the github mentioned."
   ]
  },
  {
   "cell_type": "code",
   "execution_count": 2,
   "metadata": {},
   "outputs": [],
   "source": [
    "data = pd.read_table(\"/Users/archibaldgonah/Desktop/Masters work/Code-Work/data/ncl.dat\", delim_whitespace=True, header=None)"
   ]
  },
  {
   "cell_type": "code",
   "execution_count": 3,
   "metadata": {},
   "outputs": [
    {
     "data": {
      "text/html": [
       "<div>\n",
       "<style scoped>\n",
       "    .dataframe tbody tr th:only-of-type {\n",
       "        vertical-align: middle;\n",
       "    }\n",
       "\n",
       "    .dataframe tbody tr th {\n",
       "        vertical-align: top;\n",
       "    }\n",
       "\n",
       "    .dataframe thead th {\n",
       "        text-align: right;\n",
       "    }\n",
       "</style>\n",
       "<table border=\"1\" class=\"dataframe\">\n",
       "  <thead>\n",
       "    <tr style=\"text-align: right;\">\n",
       "      <th></th>\n",
       "      <th>0</th>\n",
       "      <th>1</th>\n",
       "      <th>2</th>\n",
       "      <th>3</th>\n",
       "      <th>4</th>\n",
       "    </tr>\n",
       "  </thead>\n",
       "  <tbody>\n",
       "    <tr>\n",
       "      <th>0</th>\n",
       "      <td>900107</td>\n",
       "      <td>0.016438</td>\n",
       "      <td>59446625.0</td>\n",
       "      <td>0.000000</td>\n",
       "      <td>1</td>\n",
       "    </tr>\n",
       "    <tr>\n",
       "      <th>1</th>\n",
       "      <td>900209</td>\n",
       "      <td>0.106850</td>\n",
       "      <td>184078130.0</td>\n",
       "      <td>0.090411</td>\n",
       "      <td>1</td>\n",
       "    </tr>\n",
       "    <tr>\n",
       "      <th>2</th>\n",
       "      <td>900216</td>\n",
       "      <td>0.126030</td>\n",
       "      <td>26296875.0</td>\n",
       "      <td>0.019178</td>\n",
       "      <td>1</td>\n",
       "    </tr>\n",
       "    <tr>\n",
       "      <th>3</th>\n",
       "      <td>900313</td>\n",
       "      <td>0.194520</td>\n",
       "      <td>130769230.0</td>\n",
       "      <td>0.068493</td>\n",
       "      <td>1</td>\n",
       "    </tr>\n",
       "    <tr>\n",
       "      <th>4</th>\n",
       "      <td>900405</td>\n",
       "      <td>0.257530</td>\n",
       "      <td>110981380.0</td>\n",
       "      <td>0.063014</td>\n",
       "      <td>2</td>\n",
       "    </tr>\n",
       "  </tbody>\n",
       "</table>\n",
       "</div>"
      ],
      "text/plain": [
       "        0         1            2         3  4\n",
       "0  900107  0.016438   59446625.0  0.000000  1\n",
       "1  900209  0.106850  184078130.0  0.090411  1\n",
       "2  900216  0.126030   26296875.0  0.019178  1\n",
       "3  900313  0.194520  130769230.0  0.068493  1\n",
       "4  900405  0.257530  110981380.0  0.063014  2"
      ]
     },
     "execution_count": 3,
     "metadata": {},
     "output_type": "execute_result"
    }
   ],
   "source": [
    "data.head()"
   ]
  },
  {
   "cell_type": "code",
   "execution_count": 4,
   "metadata": {},
   "outputs": [],
   "source": [
    "# Function to convert 'yymmdd' to 'YYYY-MM-DD'\n",
    "def convert_date(date_int):\n",
    "    date_str = str(date_int)  # Convert integer to string\n",
    "    date_obj = datetime.strptime(date_str, '%y%m%d')\n",
    "    return date_obj.strftime('%Y-%m-%d')"
   ]
  },
  {
   "cell_type": "code",
   "execution_count": 5,
   "metadata": {},
   "outputs": [],
   "source": [
    "# Apply the conversion function to the 'Date' column\n",
    "data[0]= data[0].apply(lambda x: convert_date(x))\n",
    "# Convert 'Date' column to datetime format\n",
    "data[0] = pd.to_datetime(data[0])"
   ]
  },
  {
   "cell_type": "code",
   "execution_count": 6,
   "metadata": {},
   "outputs": [
    {
     "data": {
      "text/html": [
       "<div>\n",
       "<style scoped>\n",
       "    .dataframe tbody tr th:only-of-type {\n",
       "        vertical-align: middle;\n",
       "    }\n",
       "\n",
       "    .dataframe tbody tr th {\n",
       "        vertical-align: top;\n",
       "    }\n",
       "\n",
       "    .dataframe thead th {\n",
       "        text-align: right;\n",
       "    }\n",
       "</style>\n",
       "<table border=\"1\" class=\"dataframe\">\n",
       "  <thead>\n",
       "    <tr style=\"text-align: right;\">\n",
       "      <th></th>\n",
       "      <th>0</th>\n",
       "      <th>1</th>\n",
       "      <th>2</th>\n",
       "      <th>3</th>\n",
       "      <th>4</th>\n",
       "    </tr>\n",
       "  </thead>\n",
       "  <tbody>\n",
       "    <tr>\n",
       "      <th>0</th>\n",
       "      <td>1990-01-07</td>\n",
       "      <td>0.016438</td>\n",
       "      <td>59446625.0</td>\n",
       "      <td>0.000000</td>\n",
       "      <td>1</td>\n",
       "    </tr>\n",
       "    <tr>\n",
       "      <th>1</th>\n",
       "      <td>1990-02-09</td>\n",
       "      <td>0.106850</td>\n",
       "      <td>184078130.0</td>\n",
       "      <td>0.090411</td>\n",
       "      <td>1</td>\n",
       "    </tr>\n",
       "    <tr>\n",
       "      <th>2</th>\n",
       "      <td>1990-02-16</td>\n",
       "      <td>0.126030</td>\n",
       "      <td>26296875.0</td>\n",
       "      <td>0.019178</td>\n",
       "      <td>1</td>\n",
       "    </tr>\n",
       "    <tr>\n",
       "      <th>3</th>\n",
       "      <td>1990-03-13</td>\n",
       "      <td>0.194520</td>\n",
       "      <td>130769230.0</td>\n",
       "      <td>0.068493</td>\n",
       "      <td>1</td>\n",
       "    </tr>\n",
       "    <tr>\n",
       "      <th>4</th>\n",
       "      <td>1990-04-05</td>\n",
       "      <td>0.257530</td>\n",
       "      <td>110981380.0</td>\n",
       "      <td>0.063014</td>\n",
       "      <td>2</td>\n",
       "    </tr>\n",
       "  </tbody>\n",
       "</table>\n",
       "</div>"
      ],
      "text/plain": [
       "           0         1            2         3  4\n",
       "0 1990-01-07  0.016438   59446625.0  0.000000  1\n",
       "1 1990-02-09  0.106850  184078130.0  0.090411  1\n",
       "2 1990-02-16  0.126030   26296875.0  0.019178  1\n",
       "3 1990-03-13  0.194520  130769230.0  0.068493  1\n",
       "4 1990-04-05  0.257530  110981380.0  0.063014  2"
      ]
     },
     "execution_count": 6,
     "metadata": {},
     "output_type": "execute_result"
    }
   ],
   "source": [
    "data.head()"
   ]
  },
  {
   "cell_type": "code",
   "execution_count": 7,
   "metadata": {},
   "outputs": [
    {
     "data": {
      "image/png": "[encoded data removed]",
      "text/plain": [
       "<Figure size 800x600 with 1 Axes>"
      ]
     },
     "metadata": {},
     "output_type": "display_data"
    }
   ],
   "source": [
    "# Extracting columns to plot\n",
    "x = data[0].values\n",
    "y = data[2].values / 1e+09\n",
    "\n",
    "# Plotting\n",
    "plt.figure(figsize=(8, 6))\n",
    "plt.plot(x, y, linestyle='-', color='b', label='Value')\n",
    "plt.xlabel('Years', fontsize=12)\n",
    "plt.ylabel('Adjusted PCS catastrophe claims (USD billion)', fontsize=12)\n",
    "plt.grid(True)\n",
    "\n",
    "\n",
    "plt.show()"
   ]
  }
 ],
 "metadata": {
  "kernelspec": {
   "display_name": "false",
   "language": "python",
   "name": "python3"
  },
  "language_info": {
   "codemirror_mode": {
    "name": "ipython",
    "version": 3
   },
   "file_extension": ".py",
   "mimetype": "text/x-python",
   "name": "python",
   "nbconvert_exporter": "python",
   "pygments_lexer": "ipython3",
   "version": "3.8.16"
  }
 },
 "nbformat": 4,
 "nbformat_minor": 2
}
