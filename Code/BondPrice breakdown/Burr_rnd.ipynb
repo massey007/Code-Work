{
 "cells": [
  {
   "cell_type": "code",
   "execution_count": 1,
   "metadata": {},
   "outputs": [],
   "source": [
    "import numpy as np\n",
    "import pandas as pd\n",
    "import matplotlib.pyplot as plt"
   ]
  },
  {
   "cell_type": "code",
   "execution_count": 2,
   "metadata": {},
   "outputs": [],
   "source": [
    "\"\"\"\"\n",
    "This function generates random samples from the Burr distribution. \n",
    "\n",
    "Inputs:\n",
    "alpha (float): Controls the shape of the distribution. Higher values of alpha lead to a heavier tail on the right side.\n",
    "lambda (float): Scale parameter of the distribution. It controls how spread out the distribution is\n",
    "tau (float): This is the tail parameter of the Burr distribution. It affects the thickness of the tail on the left side.\n",
    "n (int): Number of samples to draw fro the distribution\n",
    "m (int): Determines the number of random variables to generate in each sample.\n",
    "\n",
    "Output:\n",
    "An array (vector) with m-random variables \n",
    "\"\"\"\"\"\n",
    "\n",
    "def burr_rnd(alpha=1, lambda_type=1, tau=2, n=1, m=1):\n",
    "    u = np.zeros((n, m))\n",
    "    for i in range(m):\n",
    "        u[:, i] = (lambda_type * (np.random.uniform(0, 1, n) ** (-1 / alpha) - 1)) ** (1 / tau)\n",
    "    return u\n"
   ]
  },
  {
   "cell_type": "code",
   "execution_count": 3,
   "metadata": {},
   "outputs": [
    {
     "data": {
      "text/plain": [
       "array([[0.38081324, 1.81610517, 1.18170202, 1.42441576, 0.04073955,\n",
       "        1.13546617, 0.39004403, 0.4751922 , 4.94153302, 8.50604028,\n",
       "        0.98687782, 2.01401574, 1.00016849, 0.43942043, 1.43486526,\n",
       "        0.26235594, 1.79710751, 1.75815262, 1.15618619, 0.59971792,\n",
       "        0.02674376, 6.0774799 , 4.09525738, 1.13160979, 1.71420531,\n",
       "        0.82761587, 0.2686217 , 0.56542846, 0.89720231, 2.18497849,\n",
       "        1.40475241, 1.18715849, 0.8801164 , 1.02879373, 0.54620958,\n",
       "        2.34814496, 0.90725706, 0.64015966, 0.07740291, 1.22273342,\n",
       "        0.82734969, 0.76322358, 0.61453362, 0.26961673, 0.96875876,\n",
       "        0.51039001, 0.41153569, 0.7883409 , 0.38249332, 0.27706999,\n",
       "        1.71828435, 1.34387344, 2.11910156, 2.65090168, 0.26862344,\n",
       "        0.63835969, 1.34475403, 2.43293889, 1.00898426, 1.76656658,\n",
       "        0.97945023, 1.30472917, 0.32191457, 1.11930668, 0.38077297,\n",
       "        1.12292778, 6.32637165, 0.68856749, 0.62005381, 0.90557157,\n",
       "        1.39974285, 3.23876973, 0.90374771, 7.6434055 , 1.63979564,\n",
       "        0.51058239, 1.05563484, 1.41517881, 1.29462054, 0.09978054,\n",
       "        0.51049208, 1.14167829, 0.25532796, 3.40529095, 2.11249023,\n",
       "        1.64247135, 0.18539137, 1.02825457, 0.3710692 , 0.80324571,\n",
       "        3.53840797, 0.86677247, 0.93457703, 0.27967245, 0.57172319,\n",
       "        1.10166996, 2.37631759, 0.38334077, 2.08658657, 1.10475282]])"
      ]
     },
     "execution_count": 3,
     "metadata": {},
     "output_type": "execute_result"
    }
   ],
   "source": [
    "burr_rnd(1,1,2,1,100)"
   ]
  }
 ],
 "metadata": {
  "kernelspec": {
   "display_name": "false",
   "language": "python",
   "name": "python3"
  },
  "language_info": {
   "codemirror_mode": {
    "name": "ipython",
    "version": 3
   },
   "file_extension": ".py",
   "mimetype": "text/x-python",
   "name": "python",
   "nbconvert_exporter": "python",
   "pygments_lexer": "ipython3",
   "version": "3.8.16"
  }
 },
 "nbformat": 4,
 "nbformat_minor": 2
}
