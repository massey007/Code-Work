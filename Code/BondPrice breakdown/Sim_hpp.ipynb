{
 "cells": [
  {
   "cell_type": "code",
   "execution_count": 2,
   "metadata": {},
   "outputs": [],
   "source": [
    "import numpy as np\n",
    "import pandas as pd\n",
    "import matplotlib.pyplot as plt"
   ]
  },
  {
   "cell_type": "code",
   "execution_count": 3,
   "metadata": {},
   "outputs": [],
   "source": [
    "\"\"\"\"\"\n",
    "This function simulates homogeneous Poisson process, counting event arrival.\n",
    "\n",
    "Inputs:\n",
    "\n",
    "lamba_type (float): A non negative scalar value. It represents the average rate of intensity of the events being simulated\n",
    "T (float): This is a positive scalar value. It is the obeserved time horizon or duration of the simulation.\n",
    "N (int): Positive integer representing the number of independent processes or entitities to simulate\n",
    "\n",
    "Output:\n",
    "\n",
    "3D Array containing the simulated event arrival times and entity IDs for each entity. \n",
    "\"\"\"\"\"\n",
    "\n",
    "\n",
    "def sim_hpp(lambda_type, T, N):\n",
    "    if lambda_type <= 0 or not np.isscalar(lambda_type):\n",
    "        raise ValueError(\"simHPP: Lambda must be a positive scalar.\")\n",
    "    if T <= 0 or not np.isscalar(T):\n",
    "        raise ValueError(\"simHPP: T must be a positive scalar.\")\n",
    "    if N <= 0 or not np.isscalar(N):\n",
    "        raise ValueError(\"simHPP: N must be a positive scalar.\")\n",
    "\n",
    "    EN = np.random.poisson(lambda_type * T, N)\n",
    "    max_EN = 2 * np.max(EN) + 2\n",
    "    y = np.full((max_EN, N, 2), T)\n",
    "    y[:, :, 1] = np.tile(EN, (max_EN, 1))\n",
    "    \n",
    "    for i in range(N):\n",
    "        if EN[i] > 0:\n",
    "            ttmp = np.sort(T * np.random.uniform(size=EN[i]))\n",
    "            y[:2 * EN[i] + 1, i, 0] = np.concatenate(([0], np.repeat(ttmp, 2)))\n",
    "            y[:2 * EN[i] + 1, i, 1] = np.concatenate(([0], np.floor(np.arange(1, 2 * EN[i]) / 2), [EN[i]]))\n",
    "\n",
    "    return y"
   ]
  },
  {
   "cell_type": "markdown",
   "metadata": {},
   "source": [
    "In summary, this function simulates a process where entities experience events according to a Poisson distribution with a given rate. It then assigns random arrival times within the observation window and keeps track of the entity associated with each event. The output allows you to analyze the simulated event occurrences for each entity."
   ]
  },
  {
   "cell_type": "code",
   "execution_count": 4,
   "metadata": {},
   "outputs": [],
   "source": [
    "N = 4\n",
    "T = 2\n",
    "lambda_type = 1\n",
    "\n",
    "EN = np.random.poisson(lambda_type * T, N)\n",
    "max_EN = 2 * np.max(EN) + 2\n",
    "y = np.full((max_EN, N, 2), T)\n",
    "y[:, :, 1] = np.tile(EN, (max_EN, 1))"
   ]
  },
  {
   "cell_type": "code",
   "execution_count": 5,
   "metadata": {},
   "outputs": [
    {
     "data": {
      "text/plain": [
       "6"
      ]
     },
     "execution_count": 5,
     "metadata": {},
     "output_type": "execute_result"
    }
   ],
   "source": [
    "len(sim_hpp(lambda_type, T, N))"
   ]
  },
  {
   "cell_type": "code",
   "execution_count": 6,
   "metadata": {},
   "outputs": [
    {
     "data": {
      "text/plain": [
       "3"
      ]
     },
     "execution_count": 6,
     "metadata": {},
     "output_type": "execute_result"
    }
   ],
   "source": [
    "len(y[:2 * EN[N-1] + 1, N-1, 1])"
   ]
  },
  {
   "cell_type": "code",
   "execution_count": 7,
   "metadata": {},
   "outputs": [
    {
     "data": {
      "text/plain": [
       "3"
      ]
     },
     "execution_count": 7,
     "metadata": {},
     "output_type": "execute_result"
    }
   ],
   "source": [
    "len(np.concatenate(([0], np.floor(np.arange(1, 2 * EN[N-1]) / 2), [EN[N-1]])))"
   ]
  },
  {
   "cell_type": "markdown",
   "metadata": {},
   "source": [
    "LHS gives me an array of 5 while RHS gives me an array of 6. \n",
    "\n",
    "solution : Changed line 18: from $$y[:2 * EN[i] +2, i, 0]$$ to $$y[:2 * EN[i] + 1, i, 0]$$"
   ]
  },
  {
   "cell_type": "code",
   "execution_count": null,
   "metadata": {},
   "outputs": [],
   "source": []
  }
 ],
 "metadata": {
  "kernelspec": {
   "display_name": "false",
   "language": "python",
   "name": "python3"
  },
  "language_info": {
   "codemirror_mode": {
    "name": "ipython",
    "version": 3
   },
   "file_extension": ".py",
   "mimetype": "text/x-python",
   "name": "python",
   "nbconvert_exporter": "python",
   "pygments_lexer": "ipython3",
   "version": "3.8.undefined"
  }
 },
 "nbformat": 4,
 "nbformat_minor": 2
}
