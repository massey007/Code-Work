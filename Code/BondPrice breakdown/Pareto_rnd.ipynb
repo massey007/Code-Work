{
 "cells": [
  {
   "cell_type": "code",
   "execution_count": 1,
   "metadata": {},
   "outputs": [],
   "source": [
    "import numpy as np\n",
    "import pandas as pd"
   ]
  },
  {
   "cell_type": "markdown",
   "metadata": {},
   "source": [
    "Purpose:\n",
    "\n",
    "It generates random numbers following a Pareto distribution with specified parameters.\n",
    "Input Arguments:\n",
    "\n",
    "- alpha (float, default=1): This is the shape parameter of the Pareto distribution. It controls the tail weight of the distribution. Lower values of alpha lead to heavier tails.\n",
    "- lambda_ (float, default=1): This is the scale parameter of the Pareto distribution. It controls the location of the minimum support of the distribution (i.e., the smallest possible value).\n",
    "- n (int, default=1): This is the number of samples to generate (number of rows in the output array).\n",
    "- m (int, default=1): This is the number of independent random variates to generate per sample (number of columns in the output array). If m > 1, it generates multiple independent Pareto distributed values for each row.\n"
   ]
  },
  {
   "cell_type": "code",
   "execution_count": 3,
   "metadata": {},
   "outputs": [],
   "source": [
    "def pareto_rnd(alpha=1, lambda_type=1, n=1, m=1):\n",
    "    u = np.zeros((n, m))\n",
    "    for i in range(m):\n",
    "        u[:, i] = lambda_type * (np.random.uniform(0, 1, n) ** (-1 / alpha) - 1)\n",
    "    return u\n"
   ]
  },
  {
   "cell_type": "code",
   "execution_count": 4,
   "metadata": {},
   "outputs": [],
   "source": [
    "alpha = 1\n",
    "lambda_type = 1\n",
    "n = 1\n",
    "m = 1\n"
   ]
  },
  {
   "cell_type": "code",
   "execution_count": 5,
   "metadata": {},
   "outputs": [],
   "source": [
    "samples = pareto_rnd(alpha, lambda_type, n, m)"
   ]
  },
  {
   "cell_type": "code",
   "execution_count": 6,
   "metadata": {},
   "outputs": [
    {
     "data": {
      "text/plain": [
       "array([[0.55363485]])"
      ]
     },
     "execution_count": 6,
     "metadata": {},
     "output_type": "execute_result"
    }
   ],
   "source": [
    "samples"
   ]
  },
  {
   "cell_type": "code",
   "execution_count": null,
   "metadata": {},
   "outputs": [],
   "source": []
  }
 ],
 "metadata": {
  "kernelspec": {
   "display_name": "false",
   "language": "python",
   "name": "python3"
  },
  "language_info": {
   "codemirror_mode": {
    "name": "ipython",
    "version": 3
   },
   "file_extension": ".py",
   "mimetype": "text/x-python",
   "name": "python",
   "nbconvert_exporter": "python",
   "pygments_lexer": "ipython3",
   "version": "3.8.16"
  }
 },
 "nbformat": 4,
 "nbformat_minor": 2
}
