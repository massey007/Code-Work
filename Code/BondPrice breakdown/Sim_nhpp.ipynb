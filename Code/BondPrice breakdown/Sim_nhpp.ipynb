{
 "cells": [
  {
   "cell_type": "code",
   "execution_count": 19,
   "metadata": {},
   "outputs": [],
   "source": [
    "import numpy as np\n",
    "import pandas as pd\n",
    "import matplotlib.pyplot as plt"
   ]
  },
  {
   "cell_type": "code",
   "execution_count": 20,
   "metadata": {},
   "outputs": [],
   "source": [
    "#homogeneous process\n",
    "\"\"\"\"\"\n",
    "This function simulates homogeneous Poisson process, counting event arrival.\n",
    "\n",
    "Inputs:\n",
    "\n",
    "lamba_type (float): A non negative scalar value. It represents the average rate of intensity of the events being simulated\n",
    "T (float): This is a positive scalar value. It is the obeserved time horizon or duration of the simulation.\n",
    "N (int): Positive integer representing the number of independent processes or entitities to simulate\n",
    "\n",
    "Output:\n",
    "\n",
    "3D Array containing the simulated event arrival times and entity IDs for each entity. \n",
    "\"\"\"\"\"\n",
    "\n",
    "\n",
    "def sim_hpp(lambda_type, T, N):\n",
    "    if lambda_type <= 0 or not np.isscalar(lambda_type):\n",
    "        raise ValueError(\"simHPP: Lambda must be a positive scalar.\")\n",
    "    if T <= 0 or not np.isscalar(T):\n",
    "        raise ValueError(\"simHPP: T must be a positive scalar.\")\n",
    "    if N <= 0 or not np.isscalar(N):\n",
    "        raise ValueError(\"simHPP: N must be a positive scalar.\")\n",
    "\n",
    "    EN = np.random.poisson(lambda_type * T, N)\n",
    "    max_EN = 2 * np.max(EN) + 2\n",
    "    y = np.full((max_EN, N, 2), T)\n",
    "    y[:, :, 1] = np.tile(EN, (max_EN, 1))\n",
    "    \n",
    "    for i in range(N):\n",
    "        if EN[i] > 0:\n",
    "            ttmp = np.sort(T * np.random.uniform(size=EN[i]))\n",
    "            y[:2 * EN[i] + 1, i, 0] = np.concatenate(([0], np.repeat(ttmp, 2)))\n",
    "            y[:2 * EN[i] + 1, i, 1] = np.concatenate(([0], np.floor(np.arange(1, 2 * EN[i]) / 2), [EN[i]]))\n",
    "\n",
    "    return y"
   ]
  },
  {
   "cell_type": "code",
   "execution_count": 21,
   "metadata": {},
   "outputs": [],
   "source": [
    "def sim_nhpp(lambda_type, parlambda, T, N):\n",
    "    a = parlambda[0]\n",
    "    b = parlambda[1]\n",
    "    if lambda_type == 0:\n",
    "        d = parlambda[2]\n",
    "        JM = sim_hpp(a + b, T, N)\n",
    "    elif lambda_type == 1:\n",
    "        JM = sim_hpp(a + b * T, T, N)\n",
    "    elif lambda_type == 2:\n",
    "        d = parlambda[2]\n",
    "        JM = sim_hpp(a + b * T, T, N)\n",
    "    \n",
    "    rjm = JM.shape[0]\n",
    "    yy = np.zeros((rjm, N, 2))\n",
    "    yy[:, :, 0] = T\n",
    "    \n",
    "    max_EN = 0\n",
    "    for i in range(N):\n",
    "        pom = JM[JM[:, i, 0] < T, i, 0]\n",
    "        pom = pom[1::2]\n",
    "        R = np.random.uniform(size=len(pom))\n",
    "        \n",
    "        if lambda_type == 0:\n",
    "            lambdat = (a + b * np.sin(2 * np.pi * (pom + d))) / (a + b)\n",
    "        elif lambda_type == 1:\n",
    "            lambdat = (a + b * pom) / (a + b * T)\n",
    "        elif lambda_type == 2:\n",
    "            lambdat = (a + b * np.sin(2 * np.pi * (pom + d)) ** 2) / (a + b)\n",
    "        \n",
    "        pom = pom[R < lambdat]\n",
    "        EN = len(pom)\n",
    "        max_EN = max(max_EN, EN)\n",
    "        yy[:2 * EN + 1, i, 0] = np.concatenate(([0], np.repeat(pom, 2)))\n",
    "        yy[2:2 * EN + 1, i, 1] = np.floor(np.arange(1, 2 * EN) / 2)\n",
    "        yy[2 * EN + 1:, i, 1] = EN\n",
    "    \n",
    "    return yy[:2 * max_EN + 2]\n"
   ]
  },
  {
   "cell_type": "code",
   "execution_count": 22,
   "metadata": {},
   "outputs": [],
   "source": [
    "N = 4\n",
    "T = 2\n",
    "lambda_type = 1\n",
    "parlambda = [1, 2]\n"
   ]
  },
  {
   "cell_type": "code",
   "execution_count": 23,
   "metadata": {},
   "outputs": [],
   "source": [
    "samples = sim_nhpp(lambda_type, parlambda, T, N)"
   ]
  }
 ],
 "metadata": {
  "kernelspec": {
   "display_name": "false",
   "language": "python",
   "name": "python3"
  },
  "language_info": {
   "codemirror_mode": {
    "name": "ipython",
    "version": 3
   },
   "file_extension": ".py",
   "mimetype": "text/x-python",
   "name": "python",
   "nbconvert_exporter": "python",
   "pygments_lexer": "ipython3",
   "version": "3.8.16"
  }
 },
 "nbformat": 4,
 "nbformat_minor": 2
}
