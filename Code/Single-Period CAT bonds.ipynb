{
 "cells": [
  {
   "cell_type": "code",
   "execution_count": 1,
   "metadata": {},
   "outputs": [],
   "source": [
    "import numpy as np\n",
    "import pandas as pd\n",
    "import scipy.stats as stats\n",
    "import matplotlib.pyplot as plt\n",
    "from scipy.optimize import minimize\n",
    "from datetime import datetime\n",
    "from scipy.integrate import simps"
   ]
  },
  {
   "cell_type": "markdown",
   "metadata": {},
   "source": [
    "First thing we need to do is to estimate the risk-free rate and SOFR rate."
   ]
  },
  {
   "cell_type": "code",
   "execution_count": 2,
   "metadata": {},
   "outputs": [],
   "source": [
    "# import data\n",
    "data_treasury = pd.read_csv('/Users/archibaldgonah/Desktop/Masters work/Code-Work/data/3-month treasury bill.csv')\n",
    "data_sofr = pd.read_csv('/Users/archibaldgonah/Desktop/Masters work/Code-Work/data/SOFR30DAYAVG.csv')\n",
    "\n",
    "# convert date strings to datetime objects (assuming proper date format)\n",
    "data_treasury['DATE'] = pd.to_datetime(data_treasury['DATE'])\n",
    "data_treasury.set_index('DATE', inplace=True)\n",
    "\n",
    "data_sofr['DATE'] = pd.to_datetime(data_sofr['DATE'])\n",
    "data_sofr.set_index('DATE', inplace=True)\n"
   ]
  },
  {
   "cell_type": "code",
   "execution_count": 3,
   "metadata": {},
   "outputs": [],
   "source": [
    "# converting column to float\n",
    "def convert_to_numeric(column):\n",
    "  try:\n",
    "    return float(column.replace(',', '')) \n",
    "  except ValueError:\n",
    "    return None \n",
    "\n",
    "data_treasury['DTB3'] = data_treasury['DTB3'].apply(convert_to_numeric)\n",
    "data_sofr['SOFR30DAYAVG'] = data_sofr['SOFR30DAYAVG'].apply(convert_to_numeric)\n"
   ]
  },
  {
   "cell_type": "code",
   "execution_count": 4,
   "metadata": {},
   "outputs": [
    {
     "data": {
      "text/html": [
       "<div>\n",
       "<style scoped>\n",
       "    .dataframe tbody tr th:only-of-type {\n",
       "        vertical-align: middle;\n",
       "    }\n",
       "\n",
       "    .dataframe tbody tr th {\n",
       "        vertical-align: top;\n",
       "    }\n",
       "\n",
       "    .dataframe thead th {\n",
       "        text-align: right;\n",
       "    }\n",
       "</style>\n",
       "<table border=\"1\" class=\"dataframe\">\n",
       "  <thead>\n",
       "    <tr style=\"text-align: right;\">\n",
       "      <th></th>\n",
       "      <th>DTB3</th>\n",
       "    </tr>\n",
       "    <tr>\n",
       "      <th>DATE</th>\n",
       "      <th></th>\n",
       "    </tr>\n",
       "  </thead>\n",
       "  <tbody>\n",
       "    <tr>\n",
       "      <th>2019-06-12</th>\n",
       "      <td>2.19</td>\n",
       "    </tr>\n",
       "    <tr>\n",
       "      <th>2019-06-13</th>\n",
       "      <td>2.14</td>\n",
       "    </tr>\n",
       "    <tr>\n",
       "      <th>2019-06-14</th>\n",
       "      <td>2.15</td>\n",
       "    </tr>\n",
       "    <tr>\n",
       "      <th>2019-06-17</th>\n",
       "      <td>2.18</td>\n",
       "    </tr>\n",
       "    <tr>\n",
       "      <th>2019-06-18</th>\n",
       "      <td>2.17</td>\n",
       "    </tr>\n",
       "  </tbody>\n",
       "</table>\n",
       "</div>"
      ],
      "text/plain": [
       "            DTB3\n",
       "DATE            \n",
       "2019-06-12  2.19\n",
       "2019-06-13  2.14\n",
       "2019-06-14  2.15\n",
       "2019-06-17  2.18\n",
       "2019-06-18  2.17"
      ]
     },
     "execution_count": 4,
     "metadata": {},
     "output_type": "execute_result"
    }
   ],
   "source": [
    "data_treasury.head()"
   ]
  },
  {
   "cell_type": "code",
   "execution_count": 5,
   "metadata": {},
   "outputs": [
    {
     "data": {
      "text/html": [
       "<div>\n",
       "<style scoped>\n",
       "    .dataframe tbody tr th:only-of-type {\n",
       "        vertical-align: middle;\n",
       "    }\n",
       "\n",
       "    .dataframe tbody tr th {\n",
       "        vertical-align: top;\n",
       "    }\n",
       "\n",
       "    .dataframe thead th {\n",
       "        text-align: right;\n",
       "    }\n",
       "</style>\n",
       "<table border=\"1\" class=\"dataframe\">\n",
       "  <thead>\n",
       "    <tr style=\"text-align: right;\">\n",
       "      <th></th>\n",
       "      <th>SOFR30DAYAVG</th>\n",
       "    </tr>\n",
       "    <tr>\n",
       "      <th>DATE</th>\n",
       "      <th></th>\n",
       "    </tr>\n",
       "  </thead>\n",
       "  <tbody>\n",
       "    <tr>\n",
       "      <th>2019-06-13</th>\n",
       "      <td>2.40658</td>\n",
       "    </tr>\n",
       "    <tr>\n",
       "      <th>2019-06-14</th>\n",
       "      <td>2.40525</td>\n",
       "    </tr>\n",
       "    <tr>\n",
       "      <th>2019-06-17</th>\n",
       "      <td>2.39589</td>\n",
       "    </tr>\n",
       "    <tr>\n",
       "      <th>2019-06-18</th>\n",
       "      <td>2.39556</td>\n",
       "    </tr>\n",
       "    <tr>\n",
       "      <th>2019-06-19</th>\n",
       "      <td>2.39456</td>\n",
       "    </tr>\n",
       "  </tbody>\n",
       "</table>\n",
       "</div>"
      ],
      "text/plain": [
       "            SOFR30DAYAVG\n",
       "DATE                    \n",
       "2019-06-13       2.40658\n",
       "2019-06-14       2.40525\n",
       "2019-06-17       2.39589\n",
       "2019-06-18       2.39556\n",
       "2019-06-19       2.39456"
      ]
     },
     "execution_count": 5,
     "metadata": {},
     "output_type": "execute_result"
    }
   ],
   "source": [
    "data_sofr.head()"
   ]
  },
  {
   "cell_type": "code",
   "execution_count": 6,
   "metadata": {},
   "outputs": [
    {
     "name": "stdout",
     "output_type": "stream",
     "text": [
      "<class 'pandas.core.frame.DataFrame'>\n",
      "DatetimeIndex: 1306 entries, 2019-06-12 to 2024-06-12\n",
      "Data columns (total 1 columns):\n",
      " #   Column  Non-Null Count  Dtype  \n",
      "---  ------  --------------  -----  \n",
      " 0   DTB3    1253 non-null   float64\n",
      "dtypes: float64(1)\n",
      "memory usage: 20.4 KB\n"
     ]
    }
   ],
   "source": [
    "# checking data\n",
    "data_treasury.info()"
   ]
  },
  {
   "cell_type": "code",
   "execution_count": 7,
   "metadata": {},
   "outputs": [
    {
     "name": "stdout",
     "output_type": "stream",
     "text": [
      "<class 'pandas.core.frame.DataFrame'>\n",
      "DatetimeIndex: 1306 entries, 2019-06-13 to 2024-06-13\n",
      "Data columns (total 1 columns):\n",
      " #   Column        Non-Null Count  Dtype  \n",
      "---  ------        --------------  -----  \n",
      " 0   SOFR30DAYAVG  1251 non-null   float64\n",
      "dtypes: float64(1)\n",
      "memory usage: 20.4 KB\n"
     ]
    }
   ],
   "source": [
    "# checking data\n",
    "data_sofr.info()"
   ]
  },
  {
   "cell_type": "markdown",
   "metadata": {},
   "source": [
    "In order to handle null values we are going to use Forward fill. \n",
    "\n",
    "This will propagate the last valid rate forward to fill the missing value. "
   ]
  },
  {
   "cell_type": "code",
   "execution_count": 8,
   "metadata": {},
   "outputs": [],
   "source": [
    "# handling nun-values\n",
    "\n",
    "data_treasury['DTB3'] = data_treasury['DTB3'].fillna(method='ffill')\n",
    "data_sofr['SOFR30DAYAVG'] = data_sofr['SOFR30DAYAVG'].fillna(method='ffill')"
   ]
  },
  {
   "cell_type": "code",
   "execution_count": 9,
   "metadata": {},
   "outputs": [
    {
     "name": "stdout",
     "output_type": "stream",
     "text": [
      "<class 'pandas.core.frame.DataFrame'>\n",
      "DatetimeIndex: 1306 entries, 2019-06-12 to 2024-06-12\n",
      "Data columns (total 1 columns):\n",
      " #   Column  Non-Null Count  Dtype  \n",
      "---  ------  --------------  -----  \n",
      " 0   DTB3    1306 non-null   float64\n",
      "dtypes: float64(1)\n",
      "memory usage: 20.4 KB\n"
     ]
    }
   ],
   "source": [
    "# check data\n",
    "data_treasury.info()"
   ]
  },
  {
   "cell_type": "code",
   "execution_count": 10,
   "metadata": {},
   "outputs": [
    {
     "name": "stdout",
     "output_type": "stream",
     "text": [
      "<class 'pandas.core.frame.DataFrame'>\n",
      "DatetimeIndex: 1306 entries, 2019-06-13 to 2024-06-13\n",
      "Data columns (total 1 columns):\n",
      " #   Column        Non-Null Count  Dtype  \n",
      "---  ------        --------------  -----  \n",
      " 0   SOFR30DAYAVG  1306 non-null   float64\n",
      "dtypes: float64(1)\n",
      "memory usage: 20.4 KB\n"
     ]
    }
   ],
   "source": [
    "# check data\n",
    "data_sofr.info()"
   ]
  },
  {
   "cell_type": "markdown",
   "metadata": {},
   "source": [
    "Now lets optimize our parameters for CIR model using our historical data. We are using the CIR model to get the risk-free rate for 2024 (estimated)."
   ]
  },
  {
   "cell_type": "code",
   "execution_count": 11,
   "metadata": {},
   "outputs": [
    {
     "name": "stdout",
     "output_type": "stream",
     "text": [
      "Optimal parameters: kappa = 2.3254288355309765, theta = 0.017426814468824353, sigma = 0.09867955137378603\n"
     ]
    }
   ],
   "source": [
    "# define the CIR model likelihood function\n",
    "def cir_log_likelihood(params, rates, dt):\n",
    "    kappa, theta, sigma = params\n",
    "    n = len(rates)\n",
    "    ll = 0.0\n",
    "    \n",
    "    for i in range(1, n):\n",
    "        r_t = rates[i-1]\n",
    "        r_t1 = rates[i]\n",
    "        \n",
    "    \n",
    "        mean_r_t1 = r_t * np.exp(-kappa * dt) + theta * (1 - np.exp(-kappa * dt))\n",
    "        var_r_t1 = (sigma**2 * r_t * (1 - np.exp(-2 * kappa * dt))) / (2 * kappa)\n",
    "        \n",
    "        \n",
    "        var_r_t1 = max(var_r_t1, 1e-10)\n",
    "        \n",
    "        # log-likelihood of observing r_t1 given r_t\n",
    "        ll += -0.5 * (np.log(2 * np.pi * var_r_t1) + ((r_t1 - mean_r_t1)**2) / var_r_t1)\n",
    "    \n",
    "    \n",
    "    return -ll\n",
    "\n",
    "# define the initial parameters and the interest rate time series\n",
    "initial_params = [0.1, 0.02, 0.1]  \n",
    "rates = np.array(data_treasury['DTB3'] / 100) \n",
    "dt = 1 / 252  \n",
    "\n",
    "# perform the optimization to find the best-fit parameters\n",
    "result = minimize(cir_log_likelihood, initial_params, args=(rates, dt), method='L-BFGS-B',\n",
    "                  bounds=[(1e-5, None), (1e-5, None), (1e-5, None)])\n",
    "\n",
    "\n",
    "kappa_opt1, theta_opt1, sigma_opt1 = result.x\n",
    "\n",
    "print(f\"Optimal parameters: kappa = {kappa_opt1}, theta = {theta_opt1}, sigma = {sigma_opt1}\")\n"
   ]
  },
  {
   "cell_type": "code",
   "execution_count": 12,
   "metadata": {},
   "outputs": [
    {
     "name": "stdout",
     "output_type": "stream",
     "text": [
      "Optimal parameters: kappa = 9.608901879109297e-05, theta = 3.489258989645634, sigma = 0.0290968688172751\n"
     ]
    }
   ],
   "source": [
    "rates = np.array(data_sofr['SOFR30DAYAVG'] / 100) \n",
    "dt = 1 / 252  \n",
    "\n",
    "# perform the optimization to find the best-fit parameters\n",
    "result = minimize(cir_log_likelihood, initial_params, args=(rates, dt), method='L-BFGS-B',\n",
    "                  bounds=[(1e-5, None), (1e-5, None), (1e-5, None)])\n",
    "\n",
    "\n",
    "kappa_opt2, theta_opt2, sigma_opt2 = result.x\n",
    "\n",
    "print(f\"Optimal parameters: kappa = {kappa_opt2}, theta = {theta_opt2}, sigma = {sigma_opt2}\")\n"
   ]
  },
  {
   "cell_type": "code",
   "execution_count": 13,
   "metadata": {},
   "outputs": [],
   "source": [
    "last_date = data_treasury.index[len(data_treasury.index) - 1]\n",
    "future_date = datetime(2024,12,31)\n",
    "difference1 = future_date - last_date\n",
    "\n",
    "last_date = data_sofr.index[len(data_sofr.index) - 1]\n",
    "future_date = datetime(2024,12,31)\n",
    "difference = future_date - last_date"
   ]
  },
  {
   "cell_type": "code",
   "execution_count": 14,
   "metadata": {},
   "outputs": [],
   "source": [
    "# CIR model parameters for treasury rate\n",
    "mean_reversion_rate = kappa_opt1 \n",
    "long_run_average = theta_opt1    \n",
    "volatility = sigma_opt1          \n",
    "initial_rate = data_treasury.iloc[-1][0] / 100    \n",
    "time_horizon = 1        \n",
    "num_steps = 144 # trading days from 2024-6-12 to 2024-12-31     \n",
    "\n",
    "\n",
    "dt = time_horizon / num_steps\n",
    "\n",
    "\n",
    "interest_rates1 = np.zeros(num_steps + 1)\n",
    "interest_rates1[0] = initial_rate\n",
    "\n",
    "for i in range(1, num_steps + 1):\n",
    "    drift = mean_reversion_rate * (long_run_average - interest_rates1[i-1])\n",
    "    diffusion = volatility * np.sqrt(interest_rates1[i-1]) * np.random.normal(scale=np.sqrt(dt))\n",
    "    interest_rates1[i] = interest_rates1[i-1] + drift * dt + diffusion\n",
    "\n",
    "\n",
    "avg_rate = simps(interest_rates1, dx=dt) / time_horizon\n",
    "\n",
    "#print(\"Simulated Interest Rates:\")\n",
    "#print(interest_rates * 100)\n",
    "#print(\"\\nAverage Interest Rate:\", avg_rate * 100)\n"
   ]
  },
  {
   "cell_type": "code",
   "execution_count": 15,
   "metadata": {},
   "outputs": [],
   "source": [
    "# CIR model parameters\n",
    "mean_reversion_rate = kappa_opt2 \n",
    "long_run_average = theta_opt2    \n",
    "volatility = sigma_opt2          \n",
    "initial_rate = data_sofr.iloc[-1][0] / 100    \n",
    "time_horizon = 1        \n",
    "num_steps = 143 # trading days from 2024-6-13 to 2024-12-31     \n",
    "\n",
    "\n",
    "dt = time_horizon / num_steps\n",
    "\n",
    "\n",
    "interest_rates2 = np.zeros(num_steps + 1)\n",
    "interest_rates2[0] = initial_rate\n",
    "\n",
    "for i in range(1, num_steps + 1):\n",
    "    drift = mean_reversion_rate * (long_run_average - interest_rates2[i-1])\n",
    "    diffusion = volatility * np.sqrt(interest_rates2[i-1]) * np.random.normal(scale=np.sqrt(dt))\n",
    "    interest_rates2[i] = interest_rates2[i-1] + drift * dt + diffusion\n",
    "\n",
    "\n",
    "avg_rate = simps(interest_rates2, dx=dt) / time_horizon\n",
    "\n",
    "#print(\"Simulated Interest Rates:\")\n",
    "#print(interest_rates * 100)\n",
    "#print(\"\\nAverage Interest Rate:\", avg_rate * 100)\n"
   ]
  },
  {
   "cell_type": "code",
   "execution_count": 16,
   "metadata": {},
   "outputs": [],
   "source": [
    "Int = np.append(np.array(data_treasury['DTB3'].loc['2024-1-1':]), np.array(interest_rates1)).mean()\n",
    "r1 = np.append(np.array(data_sofr['SOFR30DAYAVG'].loc['2024-1-1':]), np.array(interest_rates2)).mean()"
   ]
  },
  {
   "cell_type": "markdown",
   "metadata": {},
   "source": [
    "Now we bring in the single-period model\n",
    "\n",
    "- This code is translated from R"
   ]
  },
  {
   "cell_type": "code",
   "execution_count": 17,
   "metadata": {},
   "outputs": [],
   "source": [
    "# Set parameters\n",
    "T = 1  # time period\n",
    "m = 1000  # simulation times\n",
    "premium = 0.03  # the extra risk premium\n",
    "Int = 0.12  # estimated risk-free interest rate for 2024 (CIR)\n",
    "Infl = 0.0316  # inflation rate\n",
    "r1 = np.repeat(r1, m)  # estimated SOFR rate for 2024 (CIR)\n",
    "K = 1000  # face value of the CAT bond\n",
    "\n",
    "# Define parameters\n",
    "c1 = 0.05866229  # Shape parameter\n",
    "loc1 = 0.4833782  # Location parameter\n",
    "scale1 = 4.71946946  # Scale parameter\n",
    "\n",
    "c2 = 0.1181457  # Shape parameter\n",
    "loc2 = 0.4833782  # Location parameter\n",
    "scale2 = 4.9275121  # Scale parameter\n",
    "\n",
    "# Create a frozen GEV distribution object\n",
    "gev_dist1 = stats.genextreme(c1, loc1, scale1)\n",
    "gev_dist2 = stats.genextreme(c2, loc2, scale2)\n",
    "\n",
    "# Generate random variates\n",
    "Mag1 = random_variates1 = gev_dist1.rvs(size=m)\n",
    "Mag2 = random_variates2 = gev_dist2.rvs(size=m)\n",
    "Depth1 = stats.gamma.rvs(2.35378504, 0,0.25460951 ,m )\n",
    "Depth2 = stats.gamma.rvs(1.44878306, 0, 0.14585340, m)\n",
    "\n",
    "# Set arrays for payoff function values\n",
    "C = [None] * m\n",
    "f = [None] * m\n",
    "g = [None] * m\n",
    "h = [None] * m\n",
    "p = [None] * m\n",
    "q = [None] * m\n",
    "s = [None] * m\n",
    "\n",
    "# Threshold levels\n",
    "aa, ab, ac, ad, ae, af = 2.6, 2.8, 1.6, 1.8, 0.5, 0.6\n",
    "ba, bb, bc, bd, be, bf = 2.9, 3.0, 1.8, 2.0, 1.0, 1.1\n",
    "ag, ah, ai, aj, ak = 0.8, 0.85, 0.55, 0.6, 0.2\n",
    "bg, bh, bi, bj, bk = 0.95, 0.98, 0.7, 0.75, 0.5"
   ]
  },
  {
   "cell_type": "markdown",
   "metadata": {},
   "source": [
    "Price payoff function PCAT"
   ]
  },
  {
   "cell_type": "code",
   "execution_count": 18,
   "metadata": {},
   "outputs": [],
   "source": [
    "for i in range(m):\n",
    "    if Mag1[i] > Mag2[i]:\n",
    "        if Mag1[i] < 5.4:\n",
    "            if Depth1[i] <= 20:\n",
    "                f[i] = aa * r1[i]\n",
    "            if Depth1[i] > 20:\n",
    "                f[i] = ab * r1[i]\n",
    "\n",
    "            C[i] = K * (1 + f[i])\n",
    "\n",
    "        if Mag1[i] < 5.8 and Mag1[i] >= 5.4:\n",
    "            if Depth1[i] <= 15:\n",
    "                g[i] = ac * r1[i]\n",
    "            if Depth1[i] > 15:\n",
    "                g[i] = ad * r1[i]\n",
    "            \n",
    "            C[i] = K * (1 +g[i])\n",
    "\n",
    "        if Mag1[i] < 6.2 and Mag1[i] >= 5.8:\n",
    "            if Depth1[i] <= 10:\n",
    "                h[i] = ae * r1[i]\n",
    "            if Depth1[i] > 10:\n",
    "                h[i] = af * r1[i]\n",
    "            \n",
    "            C[i] = K * (1+ h[i])\n",
    "        \n",
    "        if Mag1[i] < 6.6 and Mag1[i] >= 6.2:\n",
    "\n",
    "            C[i] = K\n",
    "\n",
    "        if Mag1[i] < 7.0 and Mag1[i] >= 6.6:\n",
    "            if Depth1[i] <= 10:\n",
    "                  p[i] = ag * K\n",
    "            if Depth1[i] > 10:\n",
    "                p[i] = ah * K\n",
    "\n",
    "            C[i] = p[i]\n",
    "\n",
    "          \n",
    "\n",
    "        if Mag1[i] < 7.4 and Mag1[i] >= 7.0:\n",
    "            if Depth1[i] <= 10:\n",
    "                q[i] = ai * K\n",
    "            if Depth1[i] > 10:\n",
    "                q[i] = aj * K\n",
    "            \n",
    "            C[i] = q[i]\n",
    "\n",
    "        if Mag1[i] > 7.4:\n",
    "            s[i] = ak * K\n",
    "\n",
    "            C[i] = s[i]\n",
    "\n",
    "    else:\n",
    "        if Mag2[i] < 5.4:\n",
    "            if Depth2[i] <= 20:\n",
    "                f[i] = ba * r1[i]\n",
    "            if Depth2[i] > 20:\n",
    "                f[i] = bb *r1[i]\n",
    "\n",
    "            C[i] = K * (1+ f[i])\n",
    "\n",
    "        if Mag2[i] < 5.8 and Mag2[i] >= 5.4:\n",
    "            if Depth2[i] <= 15:\n",
    "                g[i] = bc *r1[i]\n",
    "            if Depth2[i] > 15:\n",
    "                g[i] = bd *r1[i]\n",
    "\n",
    "            C[i] = K * (1 + g[i])\n",
    "\n",
    "        if Mag2[i] < 6.2 and Mag2[i] >= 5.8:\n",
    "            if Depth2[i] <= 10:\n",
    "                h[i] = be * r1[i]\n",
    "            if Depth2[i] > 10:\n",
    "                h[i] = bf * r1[i]\n",
    "\n",
    "            C[i] = K * (1 + h[i])\n",
    "\n",
    "        if Mag2[i] < 6.6 and Mag2[i] >= 6.2:\n",
    "            \n",
    "            C[i] = K\n",
    "\n",
    "        if Mag2[i] < 7.0 and Mag2[i] <= 6.6:\n",
    "            if Depth2[i] <= 10:\n",
    "                p[i] = bg * K\n",
    "            if Depth2[i] > 10:\n",
    "                p[i] = bh * K\n",
    "            \n",
    "            C[i] = p[i]\n",
    "\n",
    "        if Mag2[i] < 7.4 and Mag2[i] <= 7.0:\n",
    "            if Depth2[i] <= 10:\n",
    "                q[i] = bi * K\n",
    "            if Depth2[i] > 10:\n",
    "                q[i] = bi * K\n",
    "            \n",
    "            C[i] = q[i]\n",
    "\n",
    "        if Mag2[i] > 7.4:\n",
    "            s[i] = bk * K\n",
    "\n",
    "            C[i] = s[i]"
   ]
  },
  {
   "cell_type": "code",
   "execution_count": 19,
   "metadata": {},
   "outputs": [],
   "source": [
    "# convert all None values to 0\n",
    "C1 = [0 if x is None else x for x in C]"
   ]
  },
  {
   "cell_type": "code",
   "execution_count": 20,
   "metadata": {},
   "outputs": [],
   "source": [
    "# Calculate discount factor\n",
    "discount = (1 + Infl) * (1 + premium + Int)\n",
    "\n",
    "\n",
    "# Calculate the present value of the CAT bond\n",
    "P = [ x / discount for x in C1]\n",
    "\n",
    "# Calculate the mean of P (final price of the CAT bond)\n",
    "mean_P = np.mean(P)\n"
   ]
  },
  {
   "cell_type": "code",
   "execution_count": 21,
   "metadata": {},
   "outputs": [
    {
     "data": {
      "text/plain": [
       "2056.2265285636877"
      ]
     },
     "execution_count": 21,
     "metadata": {},
     "output_type": "execute_result"
    }
   ],
   "source": [
    "mean_P"
   ]
  }
 ],
 "metadata": {
  "kernelspec": {
   "display_name": "false",
   "language": "python",
   "name": "python3"
  },
  "language_info": {
   "codemirror_mode": {
    "name": "ipython",
    "version": 3
   },
   "file_extension": ".py",
   "mimetype": "text/x-python",
   "name": "python",
   "nbconvert_exporter": "python",
   "pygments_lexer": "ipython3",
   "version": "3.8.undefined"
  }
 },
 "nbformat": 4,
 "nbformat_minor": 2
}
