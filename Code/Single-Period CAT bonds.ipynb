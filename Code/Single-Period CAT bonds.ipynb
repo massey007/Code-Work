{
 "cells": [
  {
   "cell_type": "code",
   "execution_count": 390,
   "metadata": {},
   "outputs": [],
   "source": [
    "import numpy as np\n",
    "import pandas as pd\n",
    "import scipy.stats as stats\n",
    "import matplotlib.pyplot as plt\n",
    "from datetime import datetime"
   ]
  },
  {
   "cell_type": "markdown",
   "metadata": {},
   "source": [
    "We start off by setting parameters\n",
    "- This code is translated from R"
   ]
  },
  {
   "cell_type": "code",
   "execution_count": 391,
   "metadata": {},
   "outputs": [],
   "source": [
    "# Set parameters\n",
    "T = 1  # time period\n",
    "m = 1000  # simulation times\n",
    "premium = 0.03  # the extra risk premium\n",
    "Int = 0.12  # risk-free interest rate\n",
    "Infl = 0.0316  # inflation rate\n",
    "r1 = np.repeat(0.013, m)  # LIBOR rate\n",
    "K = 1000  # face value of the CAT bond\n",
    "\n",
    "# Define parameters\n",
    "c1 = 0.05866229  # Shape parameter\n",
    "loc1 = 0.4833782  # Location parameter\n",
    "scale1 = 4.71946946  # Scale parameter\n",
    "\n",
    "c2 = 0.1181457  # Shape parameter\n",
    "loc2 = 0.4833782  # Location parameter\n",
    "scale2 = 4.9275121  # Scale parameter\n",
    "\n",
    "# Create a frozen GEV distribution object\n",
    "gev_dist1 = stats.genextreme(c1, loc1, scale1)\n",
    "gev_dist2 = stats.genextreme(c2, loc2, scale2)\n",
    "\n",
    "# Generate random variates\n",
    "Mag1 = random_variates1 = gev_dist1.rvs(size=m)\n",
    "Mag2 = random_variates2 = gev_dist2.rvs(size=m)\n",
    "Depth1 = stats.gamma.rvs(2.35378504, 0,0.25460951 ,m )\n",
    "Depth2 = stats.gamma.rvs(1.44878306, 0, 0.14585340, m)\n",
    "\n",
    "# Set arrays for payoff function values\n",
    "C = [None] * m\n",
    "f = [None] * m\n",
    "g = [None] * m\n",
    "h = [None] * m\n",
    "p = [None] * m\n",
    "q = [None] * m\n",
    "s = [None] * m\n",
    "\n",
    "# Threshold levels\n",
    "aa, ab, ac, ad, ae, af = 2.6, 2.8, 1.6, 1.8, 0.5, 0.6\n",
    "ba, bb, bc, bd, be, bf = 2.9, 3.0, 1.8, 2.0, 1.0, 1.1\n",
    "ag, ah, ai, aj, ak = 0.8, 0.85, 0.55, 0.6, 0.2\n",
    "bg, bh, bi, bj, bk = 0.95, 0.98, 0.7, 0.75, 0.5"
   ]
  },
  {
   "cell_type": "markdown",
   "metadata": {},
   "source": [
    "Price payoff function PCAT"
   ]
  },
  {
   "cell_type": "code",
   "execution_count": 392,
   "metadata": {},
   "outputs": [],
   "source": [
    "for i in range(m):\n",
    "    if Mag1[i] > Mag2[i]:\n",
    "        if Mag1[i] < 5.4:\n",
    "            if Depth1[i] <= 20:\n",
    "                f[i] = aa * r1[i]\n",
    "            if Depth1[i] > 20:\n",
    "                f[i] = ab * r1[i]\n",
    "\n",
    "            C[i] = K * (1 + f[i])\n",
    "\n",
    "        if Mag1[i] < 5.8 and Mag1[i] >= 5.4:\n",
    "            if Depth1[i] <= 15:\n",
    "                g[i] = ac * r1[i]\n",
    "            if Depth1[i] > 15:\n",
    "                g[i] = ad * r1[i]\n",
    "            \n",
    "            C[i] = K * (1 +g[i])\n",
    "\n",
    "        if Mag1[i] < 6.2 and Mag1[i] >= 5.8:\n",
    "            if Depth1[i] <= 10:\n",
    "                h[i] = ae * r1[i]\n",
    "            if Depth1[i] > 10:\n",
    "                h[i] = af * r1[i]\n",
    "            \n",
    "            C[i] = K * (1+ h[i])\n",
    "        \n",
    "        if Mag1[i] < 6.6 and Mag1[i] >= 6.2:\n",
    "\n",
    "            C[i] = K\n",
    "\n",
    "        if Mag1[i] < 7.0 and Mag1[i] >= 6.6:\n",
    "            if Depth1[i] <= 10:\n",
    "                  p[i] = ag * K\n",
    "            if Depth1[i] > 10:\n",
    "                p[i] = ah * K\n",
    "\n",
    "            C[i] = p[i]\n",
    "\n",
    "          \n",
    "\n",
    "        if Mag1[i] < 7.4 and Mag1[i] >= 7.0:\n",
    "            if Depth1[i] <= 10:\n",
    "                q[i] = ai * K\n",
    "            if Depth1[i] > 10:\n",
    "                q[i] = aj * K\n",
    "            \n",
    "            C[i] = q[i]\n",
    "\n",
    "        if Mag1[i] > 7.4:\n",
    "            s[i] = ak * K\n",
    "\n",
    "            C[i] = s[i]\n",
    "\n",
    "    else:\n",
    "        if Mag2[i] < 5.4:\n",
    "            if Depth2[i] <= 20:\n",
    "                f[i] = ba * r1[i]\n",
    "            if Depth2[i] > 20:\n",
    "                f[i] = bb *r1[i]\n",
    "\n",
    "            C[i] = K * (1+ f[i])\n",
    "\n",
    "        if Mag2[i] < 5.8 and Mag2[i] >= 5.4:\n",
    "            if Depth2[i] <= 15:\n",
    "                g[i] = bc *r1[i]\n",
    "            if Depth2[i] > 15:\n",
    "                g[i] = bd *r1[i]\n",
    "\n",
    "            C[i] = K * (1 + g[i])\n",
    "\n",
    "        if Mag2[i] < 6.2 and Mag2[i] >= 5.8:\n",
    "            if Depth2[i] <= 10:\n",
    "                h[i] = be * r1[i]\n",
    "            if Depth2[i] > 10:\n",
    "                h[i] = bf * r1[i]\n",
    "\n",
    "            C[i] = K * (1 + h[i])\n",
    "\n",
    "        if Mag2[i] < 6.6 and Mag2[i] >= 6.2:\n",
    "            \n",
    "            C[i] = K\n",
    "\n",
    "        if Mag2[i] < 7.0 and Mag2[i] <= 6.6:\n",
    "            if Depth2[i] <= 10:\n",
    "                p[i] = bg * K\n",
    "            if Depth2[i] > 10:\n",
    "                p[i] = bh * K\n",
    "            \n",
    "            C[i] = p[i]\n",
    "\n",
    "        if Mag2[i] < 7.4 and Mag2[i] <= 7.0:\n",
    "            if Depth2[i] <= 10:\n",
    "                q[i] = bi * K\n",
    "            if Depth2[i] > 10:\n",
    "                q[i] = bi * K\n",
    "            \n",
    "            C[i] = q[i]\n",
    "\n",
    "        if Mag2[i] > 7.4:\n",
    "            s[i] = bk * K\n",
    "\n",
    "            C[i] = s[i]"
   ]
  },
  {
   "cell_type": "code",
   "execution_count": 393,
   "metadata": {},
   "outputs": [],
   "source": [
    "# convert all None values to 0\n",
    "C1 = [0 if x is None else x for x in C]"
   ]
  },
  {
   "cell_type": "code",
   "execution_count": 394,
   "metadata": {},
   "outputs": [],
   "source": [
    "# Calculate discount factor\n",
    "discount = (1 + Infl) * (1 + premium + Int)\n",
    "\n",
    "\n",
    "# Calculate the present value of the CAT bond\n",
    "P = [ x / discount for x in C1]\n",
    "\n",
    "# Calculate the mean of P (final price of the CAT bond)\n",
    "mean_P = np.mean(P)\n"
   ]
  },
  {
   "cell_type": "code",
   "execution_count": 395,
   "metadata": {},
   "outputs": [
    {
     "data": {
      "text/plain": [
       "555.0063219650353"
      ]
     },
     "execution_count": 395,
     "metadata": {},
     "output_type": "execute_result"
    }
   ],
   "source": [
    "mean_P"
   ]
  }
 ],
 "metadata": {
  "kernelspec": {
   "display_name": "false",
   "language": "python",
   "name": "python3"
  },
  "language_info": {
   "codemirror_mode": {
    "name": "ipython",
    "version": 3
   },
   "file_extension": ".py",
   "mimetype": "text/x-python",
   "name": "python",
   "nbconvert_exporter": "python",
   "pygments_lexer": "ipython3",
   "version": "3.8.16"
  }
 },
 "nbformat": 4,
 "nbformat_minor": 2
}
