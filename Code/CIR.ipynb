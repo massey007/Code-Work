{
 "cells": [
  {
   "cell_type": "code",
   "execution_count": 407,
   "metadata": {},
   "outputs": [],
   "source": [
    "import numpy as np\n",
    "import pandas as pd\n",
    "import matplotlib.pyplot as plt\n",
    "from scipy.optimize import minimize\n",
    "from datetime import datetime, timedelta\n",
    "import random\n",
    "from scipy.integrate import simps"
   ]
  },
  {
   "cell_type": "code",
   "execution_count": 408,
   "metadata": {},
   "outputs": [
    {
     "data": {
      "text/plain": [
       "DTB3    object\n",
       "dtype: object"
      ]
     },
     "execution_count": 408,
     "metadata": {},
     "output_type": "execute_result"
    }
   ],
   "source": [
    "# import data\n",
    "data_treasury = pd.read_csv('/Users/archibaldgonah/Desktop/Masters work/Code-Work/data/3-month treasury bill.csv')\n",
    "# convert date strings to datetime objects (assuming proper date format)\n",
    "data_treasury['DATE'] = pd.to_datetime(data_treasury['DATE'])\n",
    "data_treasury.set_index('DATE', inplace=True)\n",
    "\n",
    "data_treasury.dtypes"
   ]
  },
  {
   "cell_type": "code",
   "execution_count": 409,
   "metadata": {},
   "outputs": [
    {
     "data": {
      "text/html": [
       "<div>\n",
       "<style scoped>\n",
       "    .dataframe tbody tr th:only-of-type {\n",
       "        vertical-align: middle;\n",
       "    }\n",
       "\n",
       "    .dataframe tbody tr th {\n",
       "        vertical-align: top;\n",
       "    }\n",
       "\n",
       "    .dataframe thead th {\n",
       "        text-align: right;\n",
       "    }\n",
       "</style>\n",
       "<table border=\"1\" class=\"dataframe\">\n",
       "  <thead>\n",
       "    <tr style=\"text-align: right;\">\n",
       "      <th></th>\n",
       "      <th>DTB3</th>\n",
       "    </tr>\n",
       "    <tr>\n",
       "      <th>DATE</th>\n",
       "      <th></th>\n",
       "    </tr>\n",
       "  </thead>\n",
       "  <tbody>\n",
       "    <tr>\n",
       "      <th>2019-06-12</th>\n",
       "      <td>2.19</td>\n",
       "    </tr>\n",
       "    <tr>\n",
       "      <th>2019-06-13</th>\n",
       "      <td>2.14</td>\n",
       "    </tr>\n",
       "    <tr>\n",
       "      <th>2019-06-14</th>\n",
       "      <td>2.15</td>\n",
       "    </tr>\n",
       "    <tr>\n",
       "      <th>2019-06-17</th>\n",
       "      <td>2.18</td>\n",
       "    </tr>\n",
       "    <tr>\n",
       "      <th>2019-06-18</th>\n",
       "      <td>2.17</td>\n",
       "    </tr>\n",
       "  </tbody>\n",
       "</table>\n",
       "</div>"
      ],
      "text/plain": [
       "            DTB3\n",
       "DATE            \n",
       "2019-06-12  2.19\n",
       "2019-06-13  2.14\n",
       "2019-06-14  2.15\n",
       "2019-06-17  2.18\n",
       "2019-06-18  2.17"
      ]
     },
     "execution_count": 409,
     "metadata": {},
     "output_type": "execute_result"
    }
   ],
   "source": [
    "# converting column to float\n",
    "def convert_to_numeric(column):\n",
    "  try:\n",
    "    return float(column.replace(',', '')) \n",
    "  except ValueError:\n",
    "    return None \n",
    "\n",
    "data_treasury['DTB3'] = data_treasury['DTB3'].apply(convert_to_numeric)\n",
    "\n",
    "data_treasury.head()\n"
   ]
  },
  {
   "cell_type": "markdown",
   "metadata": {},
   "source": [
    "Our data is from 2019-06 to 2024-06"
   ]
  },
  {
   "cell_type": "code",
   "execution_count": 410,
   "metadata": {},
   "outputs": [
    {
     "name": "stdout",
     "output_type": "stream",
     "text": [
      "<class 'pandas.core.frame.DataFrame'>\n",
      "DatetimeIndex: 1306 entries, 2019-06-12 to 2024-06-12\n",
      "Data columns (total 1 columns):\n",
      " #   Column  Non-Null Count  Dtype  \n",
      "---  ------  --------------  -----  \n",
      " 0   DTB3    1253 non-null   float64\n",
      "dtypes: float64(1)\n",
      "memory usage: 20.4 KB\n"
     ]
    }
   ],
   "source": [
    "# checking data\n",
    "data_treasury.info()"
   ]
  },
  {
   "cell_type": "markdown",
   "metadata": {},
   "source": [
    "In order to handle null values we are going to use Forward fill. \n",
    "\n",
    "This will propagate the last valid rate forward to fill the missing value. "
   ]
  },
  {
   "cell_type": "code",
   "execution_count": 411,
   "metadata": {},
   "outputs": [],
   "source": [
    "# handling nun-values\n",
    "\n",
    "data_treasury['DTB3'] = data_treasury['DTB3'].fillna(method='ffill')"
   ]
  },
  {
   "cell_type": "code",
   "execution_count": 412,
   "metadata": {},
   "outputs": [
    {
     "name": "stdout",
     "output_type": "stream",
     "text": [
      "<class 'pandas.core.frame.DataFrame'>\n",
      "DatetimeIndex: 1306 entries, 2019-06-12 to 2024-06-12\n",
      "Data columns (total 1 columns):\n",
      " #   Column  Non-Null Count  Dtype  \n",
      "---  ------  --------------  -----  \n",
      " 0   DTB3    1306 non-null   float64\n",
      "dtypes: float64(1)\n",
      "memory usage: 20.4 KB\n"
     ]
    }
   ],
   "source": [
    "# check data\n",
    "data_treasury.info()"
   ]
  },
  {
   "cell_type": "code",
   "execution_count": 413,
   "metadata": {},
   "outputs": [
    {
     "data": {
      "text/plain": [
       "<matplotlib.legend.Legend at 0x7ff552551250>"
      ]
     },
     "execution_count": 413,
     "metadata": {},
     "output_type": "execute_result"
    },
    {
     "data": {
      "image/png": "[encoded data removed]",
      "text/plain": [
       "<Figure size 640x480 with 1 Axes>"
      ]
     },
     "metadata": {},
     "output_type": "display_data"
    }
   ],
   "source": [
    "# plot both original\n",
    "plt.plot(data_treasury['DTB3'], linestyle='-', alpha=0.7, label='Daily Rate')  # Adjust alpha for transparency\n",
    "plt.legend()"
   ]
  },
  {
   "cell_type": "markdown",
   "metadata": {},
   "source": [
    "Now lets optimize our parameters for CIR model using our historical data. We are using the CIR model to get the risk-free rate for 2024 (estimated)."
   ]
  },
  {
   "cell_type": "code",
   "execution_count": 414,
   "metadata": {},
   "outputs": [
    {
     "name": "stdout",
     "output_type": "stream",
     "text": [
      "Optimal parameters: kappa = 2.3254288355309765, theta = 0.017426814468824353, sigma = 0.09867955137378603\n"
     ]
    }
   ],
   "source": [
    "random.seed(46)\n",
    "# define the CIR model likelihood function\n",
    "def cir_log_likelihood(params, rates, dt):\n",
    "    kappa, theta, sigma = params\n",
    "    n = len(rates)\n",
    "    ll = 0.0\n",
    "    \n",
    "    for i in range(1, n):\n",
    "        r_t = rates[i-1]\n",
    "        r_t1 = rates[i]\n",
    "        \n",
    "    \n",
    "        mean_r_t1 = r_t * np.exp(-kappa * dt) + theta * (1 - np.exp(-kappa * dt))\n",
    "        var_r_t1 = (sigma**2 * r_t * (1 - np.exp(-2 * kappa * dt))) / (2 * kappa)\n",
    "        \n",
    "        \n",
    "        var_r_t1 = max(var_r_t1, 1e-10)\n",
    "        \n",
    "        # log-likelihood of observing r_t1 given r_t\n",
    "        ll += -0.5 * (np.log(2 * np.pi * var_r_t1) + ((r_t1 - mean_r_t1)**2) / var_r_t1)\n",
    "    \n",
    "    \n",
    "    return -ll\n",
    "\n",
    "# define the initial parameters and the interest rate time series\n",
    "initial_params = [0.1, 0.02, 0.1]  \n",
    "rates = np.array(data_treasury['DTB3'] / 100) \n",
    "dt = 1 / 252  \n",
    "\n",
    "# perform the optimization to find the best-fit parameters\n",
    "result = minimize(cir_log_likelihood, initial_params, args=(rates, dt), method='L-BFGS-B',\n",
    "                  bounds=[(1e-5, None), (1e-5, None), (1e-5, None)])\n",
    "\n",
    "\n",
    "kappa_opt, theta_opt, sigma_opt = result.x\n",
    "\n",
    "print(f\"Optimal parameters: kappa = {kappa_opt}, theta = {theta_opt}, sigma = {sigma_opt}\")\n"
   ]
  },
  {
   "cell_type": "code",
   "execution_count": 415,
   "metadata": {},
   "outputs": [
    {
     "data": {
      "text/plain": [
       "Timestamp('2024-06-12 00:00:00')"
      ]
     },
     "execution_count": 415,
     "metadata": {},
     "output_type": "execute_result"
    }
   ],
   "source": [
    "data_treasury.index[len(data_treasury.index) - 1]"
   ]
  },
  {
   "cell_type": "code",
   "execution_count": 416,
   "metadata": {},
   "outputs": [],
   "source": [
    "last_date = data_treasury.index[len(data_treasury.index) - 1]\n",
    "future_date = datetime(2024,12,31)\n",
    "difference = future_date - last_date"
   ]
  },
  {
   "cell_type": "code",
   "execution_count": 417,
   "metadata": {},
   "outputs": [
    {
     "name": "stdout",
     "output_type": "stream",
     "text": [
      "Simulated Interest Rates:\n",
      "[5.25       5.25850877 4.98146579 5.01673863 5.20609591 5.23108467\n",
      " 4.94114084 5.13232887 5.29562613 5.2210662  4.96087151 4.82278641\n",
      " 4.80817666 4.9929231  4.86131484 4.82725789 5.23592246 5.36995867\n",
      " 5.27171445 5.26140515 4.9205314  5.01441488 4.89412021 4.79030325\n",
      " 4.83021944 4.81580109 4.64499181 4.5460263  4.36011448 4.20074732\n",
      " 4.37385221 4.59337085 4.66691119 4.68266721 4.79742698 4.91103626\n",
      " 4.78101457 4.65838052 4.87893352 4.79006743 4.56871041 4.34157386\n",
      " 4.35806206 4.51854952 4.30000314 4.23732677 4.08996921 4.03878159\n",
      " 4.06108247 4.08493838 4.3069328  4.45222403 4.49193857 4.26447836\n",
      " 4.03715229 4.08832131 3.96150813 4.00081477 3.86103148 3.73467586\n",
      " 3.80903534 3.814566   3.67530385 3.69327734 3.61592522 3.42666402\n",
      " 3.33093452 3.5924037  3.56812089 3.53910485 3.43035515 3.34893379\n",
      " 3.25149304 2.81463144 2.9921026  3.02541618 2.94020039 2.66393959\n",
      " 2.70940635 2.53754061 2.29621303 2.34013761 2.0685359  1.92929975\n",
      " 1.85008141 1.81336916 1.88545193 1.95076257 1.9762152  2.13510479\n",
      " 2.25287374 2.19816665 2.10934919 1.99882073 2.03700923 2.15991654\n",
      " 2.20552668 2.26951928 2.23356406 2.48358344 2.3247481  2.36397968\n",
      " 2.17495169 2.35149383 2.26827809 2.34444954 2.25612626 2.37160855\n",
      " 2.26910238 2.20712675 2.26439362 2.39506451 2.56091869 2.63009874\n",
      " 2.70628655 2.78923346 2.92522359 2.52933106 2.52116075 2.48798756\n",
      " 2.37136843 2.11900051 2.0963335  2.06848419 1.9088722  1.80203272\n",
      " 1.92571343 1.9048477  1.9000839  1.91731009 1.82170342 1.55103776\n",
      " 1.56611378 1.57877503 1.46324202 1.48116161 1.61203526 1.63327186\n",
      " 1.66784113 1.78170825 1.72553327 1.83994402 1.96356219 2.05741469\n",
      " 1.95117237]\n",
      "\n",
      "Average Interest Rate: 3.3266521631186854\n"
     ]
    }
   ],
   "source": [
    "# CIR model parameters\n",
    "mean_reversion_rate = kappa_opt \n",
    "long_run_average = theta_opt    \n",
    "volatility = sigma_opt          \n",
    "initial_rate = data_treasury.iloc[-1][0] / 100    \n",
    "time_horizon = 1        \n",
    "num_steps = 144 # trading days from 2024-6-12 to 2024-12-31     \n",
    "\n",
    "\n",
    "dt = time_horizon / num_steps\n",
    "\n",
    "\n",
    "interest_rates = np.zeros(num_steps + 1)\n",
    "interest_rates[0] = initial_rate\n",
    "\n",
    "for i in range(1, num_steps + 1):\n",
    "    drift = mean_reversion_rate * (long_run_average - interest_rates[i-1])\n",
    "    diffusion = volatility * np.sqrt(interest_rates[i-1]) * np.random.normal(scale=np.sqrt(dt))\n",
    "    interest_rates[i] = interest_rates[i-1] + drift * dt + diffusion\n",
    "\n",
    "\n",
    "avg_rate = simps(interest_rates, dx=dt) / time_horizon\n",
    "\n",
    "print(\"Simulated Interest Rates:\")\n",
    "print(interest_rates * 100)\n",
    "print(\"\\nAverage Interest Rate:\", avg_rate * 100)\n"
   ]
  },
  {
   "cell_type": "code",
   "execution_count": 418,
   "metadata": {},
   "outputs": [
    {
     "data": {
      "text/plain": [
       "2.3693276948807807"
      ]
     },
     "execution_count": 418,
     "metadata": {},
     "output_type": "execute_result"
    }
   ],
   "source": [
    "np.append(np.array(data_treasury['DTB3'].loc['2024-1-1':]), np.array(interest_rates)).mean()"
   ]
  }
 ],
 "metadata": {
  "kernelspec": {
   "display_name": "false",
   "language": "python",
   "name": "python3"
  },
  "language_info": {
   "codemirror_mode": {
    "name": "ipython",
    "version": 3
   },
   "file_extension": ".py",
   "mimetype": "text/x-python",
   "name": "python",
   "nbconvert_exporter": "python",
   "pygments_lexer": "ipython3",
   "version": "3.8.16"
  }
 },
 "nbformat": 4,
 "nbformat_minor": 2
}
