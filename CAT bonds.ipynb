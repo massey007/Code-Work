{
 "cells": [
  {
   "cell_type": "code",
   "execution_count": 1,
   "metadata": {},
   "outputs": [],
   "source": [
    "import numpy as np\n",
    "import scipy.stats as stats\n",
    "import matplotlib.pyplot as plt"
   ]
  },
  {
   "cell_type": "markdown",
   "metadata": {},
   "source": [
    "We start off by setting parameters\n",
    "- This code is translated from R"
   ]
  },
  {
   "cell_type": "code",
   "execution_count": 2,
   "metadata": {},
   "outputs": [],
   "source": [
    "# Set parameters\n",
    "T = 1  # time period\n",
    "m = 100000  # simulation times\n",
    "premium = 0.03  # the extra risk premium\n",
    "Int = 0.0012  # risk-free interest rate\n",
    "Infl = 0.0316  # inflation rate\n",
    "r1 = np.repeat(0.013, m)  # LIBOR rate\n",
    "K = 1000  # face value of the CAT bond\n",
    "\n",
    "# Generate cases for Magnitude and Depth\n",
    "Mag1 = np.random.gumbel(4.71946946, 0.44861472, m)\n",
    "Mag2 = np.random.gumbel(4.9275121, 0.4833782, m)\n",
    "Depth1 = np.random.gamma(2.35378504, scale=1/0.25460951, size=m)\n",
    "Depth2 = np.random.gamma(1.44878306, scale=1/0.14585340, size=m)\n",
    "\n",
    "# Set arrays for payoff function values\n",
    "C = np.full(m, np.nan)\n",
    "f = np.full(m, np.nan)\n",
    "g = np.full(m, np.nan)\n",
    "h = np.full(m, np.nan)\n",
    "p = np.full(m, np.nan)\n",
    "q = np.full(m, np.nan)\n",
    "s = np.full(m, np.nan)\n",
    "\n",
    "# Threshold levels\n",
    "aa, ab, ac, ad, ae, af = 2.6, 2.8, 1.6, 1.8, 0.5, 0.6\n",
    "ba, bb, bc, bd, be, bf = 2.9, 3.0, 1.8, 2.0, 1.0, 1.1\n",
    "ag, ah, ai, aj, ak = 0.8, 0.85, 0.55, 0.6, 0.2\n",
    "bg, bh, bi, bj, bk = 0.95, 0.98, 0.7, 0.75, 0.5"
   ]
  },
  {
   "cell_type": "markdown",
   "metadata": {},
   "source": [
    "Price payoff function PCAT"
   ]
  },
  {
   "cell_type": "code",
   "execution_count": 6,
   "metadata": {},
   "outputs": [],
   "source": [
    "for i in range(m):\n",
    "    if Mag1[i] > Mag2[i]:\n",
    "        f[i]  # this line seems redundant, not sure if intended in the original code\n",
    "    if Mag1[i] < 5.4:\n",
    "        if Depth1[i] <= 20:\n",
    "            f[i] = -aa * r1[i]\n",
    "        if Depth1[i] > 20:\n",
    "            f[i] = -ab * r1[i]\n",
    "        C[i] = K * (1 + f[i])\n",
    "    if 5.4 <= Mag1[i] < 5.8:\n",
    "        if Depth1[i] <= 15:\n",
    "            g[i] = -ac * r1[i]\n",
    "        if Depth1[i] > 15:\n",
    "            g[i] = -ad * r1[i]\n",
    "        C[i] = K * (1 + g[i])\n",
    "    if 5.8 <= Mag1[i] < 6.2:\n",
    "        if Depth1[i] <= 10:\n",
    "            h[i] = -ae * r1[i]\n",
    "        if Depth1[i] > 10:\n",
    "            h[i] = -af * r1[i]\n",
    "    if Mag1[i] < 6.2:\n",
    "        C[i] = K * (1 + h[i])  # Assuming this was intended to be (1 + h[i]) and not (1 + h[i]) * g\n",
    "    if 6.2 <= Mag1[i] < 6.6:\n",
    "        C[i] = K\n",
    "    if 6.6 <= Mag1[i] < 7.0:\n",
    "        if Depth1[i] <= 10:\n",
    "            p[i] = -ag * K\n",
    "        if Depth1[i] > 10:\n",
    "            p[i] = -ah * K\n",
    "        C[i] = p[i]\n",
    "    if 7.0 <= Mag1[i] < 7.4:\n",
    "        if Depth1[i] <= 10:\n",
    "            q[i] = -ai * K\n",
    "        if Depth1[i] > 10:\n",
    "            q[i] = -aj * K\n",
    "        C[i] = q[i]\n",
    "    if Mag1[i] >= 7.4:\n",
    "        s[i] = -ak * K\n",
    "        C[i] = s[i]\n",
    "    else:\n",
    "        if Mag2[i] < 5.4:\n",
    "            if Depth2[i] <= 20:\n",
    "                f[i] = -ba * r1[i]\n",
    "            if Depth2[i] > 20:\n",
    "                f[i] = -bb * r1[i]\n",
    "            C[i] = K * (1 + f[i])  # Assuming this was intended to be (1 + f[i]) and not (1 + f[i]) * g\n",
    "        if 5.4 <= Mag2[i] < 5.8:\n",
    "            if Depth2[i] <= 15:\n",
    "                g[i] = -bc * r1[i]\n",
    "            if Depth2[i] > 15:\n",
    "                g[i] = -bd * r1[i]\n",
    "            C[i] = K * (1 + g[i])  # Assuming this was intended to be (1 + g[i]) and not (1 + g[i]) * g\n",
    "        if Mag2[i] < 6.2:\n",
    "            if Depth2[i] <= 10:\n",
    "                h[i] = -be * r1[i]\n",
    "            if Depth2[i] > 10:\n",
    "                h[i] = -bf * r1[i]\n",
    "            C[i] = K * (1 + h[i])  # Assuming this was intended to be (1 + h[i]) and not (1 + h[i]) * g\n",
    "        if 5.8 <= Mag2[i] < 6.2:\n",
    "            C[i] = K\n",
    "        if 6.2 <= Mag2[i] < 6.6:\n",
    "            if Depth2[i] <= 10:\n",
    "                p[i] = -bg * K\n",
    "            if Depth2[i] > 10:\n",
    "                p[i] = -bh * K\n",
    "            C[i] = p[i]\n",
    "        if 6.6 <= Mag2[i] < 7.0:\n",
    "            if Depth2[i] <= 10:\n",
    "                q[i] = -bi * K\n",
    "            if Depth2[i] > 10:\n",
    "                q[i] = -bj * K\n",
    "            C[i] = q[i]\n",
    "        if Mag2[i] >= 7.4:\n",
    "            s[i] = -bk * K\n",
    "            C[i] = s[i]\n",
    "        g[i] = None  # this line seems to be present in the R code but has no equivalent action in Python\n"
   ]
  },
  {
   "cell_type": "code",
   "execution_count": 7,
   "metadata": {},
   "outputs": [],
   "source": [
    "# Calculate discount factor\n",
    "discount = (1 + Infl) * (1 + premium + Int)\n",
    "\n",
    "# Calculate the present value of the CAT bond\n",
    "P = C / discount\n",
    "\n",
    "# Calculate the mean of P (final price of the CAT bond)\n",
    "mean_P = np.mean(P)\n"
   ]
  },
  {
   "cell_type": "code",
   "execution_count": 8,
   "metadata": {},
   "outputs": [
    {
     "data": {
      "text/plain": [
       "nan"
      ]
     },
     "execution_count": 8,
     "metadata": {},
     "output_type": "execute_result"
    }
   ],
   "source": [
    "mean_P"
   ]
  },
  {
   "cell_type": "markdown",
   "metadata": {},
   "source": [
    "# experimenting"
   ]
  },
  {
   "cell_type": "code",
   "execution_count": 7,
   "metadata": {},
   "outputs": [
    {
     "data": {
      "image/png": "[encoded data removed]",
      "text/plain": [
       "<Figure size 1000x500 with 1 Axes>"
      ]
     },
     "metadata": {},
     "output_type": "display_data"
    }
   ],
   "source": [
    "# Define parameters\n",
    "c = 0.05866229  # Shape parameter\n",
    "loc = 0.4833782  # Location parameter\n",
    "scale = 4.71946946  # Scale parameter\n",
    "\n",
    "# Create a frozen GEV distribution object\n",
    "gev_dist = stats.genextreme(c, loc, scale)\n",
    "\n",
    "# Calculate PDF and CDF at specific points\n",
    "#x = np.linspace(-5, 5, 1000)\n",
    "#pdf_values = gev_dist.pdf(x)\n",
    "#cdf_values = gev_dist.cdf(x)\n",
    "\n",
    "# Generate random variates\n",
    "random_variates = gev_dist.rvs(size=100_000)\n",
    "\n",
    "# Plot PDF and CDF\n",
    "plt.figure(figsize=(10, 5))\n",
    "#plt.plot(x, pdf_values, label='PDF')\n",
    "#plt.plot(x, cdf_values, label='CDF')\n",
    "plt.hist(random_variates, bins=50, density=True, alpha=0.5, label='Random Variates')\n",
    "plt.xlabel('X')\n",
    "plt.ylabel('Probability')\n",
    "plt.title('Generalized Extreme Value Distribution')\n",
    "plt.legend()\n",
    "plt.grid(True)\n",
    "plt.show()\n"
   ]
  }
 ],
 "metadata": {
  "kernelspec": {
   "display_name": "false",
   "language": "python",
   "name": "python3"
  },
  "language_info": {
   "codemirror_mode": {
    "name": "ipython",
    "version": 3
   },
   "file_extension": ".py",
   "mimetype": "text/x-python",
   "name": "python",
   "nbconvert_exporter": "python",
   "pygments_lexer": "ipython3",
   "version": "3.8.16"
  }
 },
 "nbformat": 4,
 "nbformat_minor": 2
}
